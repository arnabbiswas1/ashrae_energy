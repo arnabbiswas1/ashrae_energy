{
 "cells": [
  {
   "cell_type": "code",
   "execution_count": 10,
   "metadata": {},
   "outputs": [],
   "source": [
    "import pandas as pd\n",
    "import numpy as np\n",
    "import random\n",
    "import feather\n",
    "import gc\n",
    "import json\n",
    "from sklearn.preprocessing import LabelEncoder\n",
    "from sklearn import metrics\n",
    "import lightgbm as lgb\n",
    "from sklearn.model_selection import KFold\n",
    "import sys\n",
    "\n",
    "sys.path.insert(0, \"/home/jupyter/kaggle/energy/src\")\n",
    "import utility\n",
    "\n",
    "pd.options.display.max_rows = 100\n",
    "pd.options.display.max_columns = 100"
   ]
  },
  {
   "cell_type": "code",
   "execution_count": 37,
   "metadata": {},
   "outputs": [],
   "source": [
    "SEED = 42\n",
    "LOCAl_TEST = True\n",
    "utility.set_seed(SEED)\n",
    "TARGET = 'meter_reading'"
   ]
  },
  {
   "cell_type": "code",
   "execution_count": 12,
   "metadata": {},
   "outputs": [
    {
     "name": "stdout",
     "output_type": "stream",
     "text": [
      "(19822322, 16) (41697600, 16) (19822322, 25) (41697600, 25)\n"
     ]
    }
   ],
   "source": [
    "# Gather the original data frames\n",
    "train_df = pd.read_feather(f'{utility.CREATED_FEATURE_DIR}/train_data_cleaned_site_0.feather')\n",
    "test_df = pd.read_feather(f'{utility.CREATED_DATA_DIR}/test_merged.feather')\n",
    "\n",
    "# Gather the generated features\n",
    "train_features_df = pd.read_feather(f'{utility.CREATED_FEATURE_DIR}/train_features.feather')\n",
    "test_features_df = pd.read_feather(f'{utility.CREATED_FEATURE_DIR}/test_features.feather')\n",
    "\n",
    "print(train_df.shape, test_df.shape, train_features_df.shape, test_features_df.shape)\n",
    "#print(train_df.shape, test_df.shape)\n",
    "\n",
    "# Remove the minute and second related features\n",
    "train_features_df.drop(['minute', 'second'], axis=1, inplace=True)\n",
    "test_features_df.drop(['minute', 'second'], axis=1, inplace=True)"
   ]
  },
  {
   "cell_type": "code",
   "execution_count": 14,
   "metadata": {},
   "outputs": [
    {
     "name": "stdout",
     "output_type": "stream",
     "text": [
      "22\n"
     ]
    }
   ],
   "source": [
    "utility.trigger_gc()"
   ]
  },
  {
   "cell_type": "code",
   "execution_count": null,
   "metadata": {},
   "outputs": [
    {
     "name": "stdout",
     "output_type": "stream",
     "text": [
      "LabelEncoder of feature [primary_use] is saved at [primary_use_label]\n"
     ]
    }
   ],
   "source": [
    "# Label Encode primary_use\n",
    "train_features_df, test_features_df = utility.do_label_encoding(train_df, \n",
    "                                                        test_df, \n",
    "                                                        train_features_df, \n",
    "                                                        test_features_df, \n",
    "                                                        ['primary_use'], 'label')"
   ]
  },
  {
   "cell_type": "code",
   "execution_count": 16,
   "metadata": {},
   "outputs": [
    {
     "name": "stdout",
     "output_type": "stream",
     "text": [
      "LabelEncoder the feature [site_id_building_id]\n",
      "LabelEncoder the feature [site_building_meter_id]\n",
      "LabelEncoder the feature [site_building_meter_id_usage]\n",
      "LabelEncoder the feature [site_id_meter]\n",
      "LabelEncoder the feature [building_id_meter]\n",
      "LabelEncoder the feature [site_id_primary_use]\n",
      "LabelEncoder the feature [building_id_primary_use]\n",
      "LabelEncoder the feature [meter_primary_use]\n"
     ]
    }
   ],
   "source": [
    "cat_features = ['site_id_building_id', 'site_building_meter_id',\n",
    "       'site_building_meter_id_usage', 'site_id_meter', 'building_id_meter',\n",
    "       'site_id_primary_use', 'building_id_primary_use', 'meter_primary_use']\n",
    "\n",
    "train_features_df, test_features_df = utility.do_label_encoding(train_features_df, \n",
    "                                                            test_features_df, \n",
    "                                                            train_features_df, \n",
    "                                                            test_features_df, \n",
    "                                                            cat_features)"
   ]
  },
  {
   "cell_type": "code",
   "execution_count": 17,
   "metadata": {},
   "outputs": [],
   "source": [
    "# Convert boolean variables to 0 or 1\n",
    "bool_fetaure_list = train_features_df.select_dtypes('bool').columns\n",
    "\n"
   ]
  },
  {
   "cell_type": "code",
   "execution_count": 22,
   "metadata": {},
   "outputs": [],
   "source": [
    "train_features_df = utility.convert_to_int(train_features_df, bool_fetaure_list)\n",
    "\n",
    "test_features_df = utility.convert_to_int(test_features_df, bool_fetaure_list)"
   ]
  },
  {
   "cell_type": "code",
   "execution_count": 23,
   "metadata": {},
   "outputs": [
    {
     "name": "stdout",
     "output_type": "stream",
     "text": [
      "Shape of train_merged (19822322, 40)\n",
      "1487\n",
      "Shape of train_merged (41697600, 40)\n",
      "0\n"
     ]
    }
   ],
   "source": [
    "train_merged = pd.concat([train_df, train_features_df], axis=1)\n",
    "print(f'Shape of train_merged {train_merged.shape}')\n",
    "\n",
    "del train_df, train_features_df\n",
    "utility.trigger_gc()\n",
    "\n",
    "test_merged = pd.concat([test_df, test_features_df], axis=1)\n",
    "print(f'Shape of train_merged {test_merged.shape}')\n",
    "\n",
    "del test_df, test_features_df\n",
    "utility.trigger_gc()"
   ]
  },
  {
   "cell_type": "markdown",
   "metadata": {},
   "source": [
    "### Feature Engineering"
   ]
  },
  {
   "cell_type": "code",
   "execution_count": 24,
   "metadata": {},
   "outputs": [
    {
     "data": {
      "text/plain": [
       "Index(['site_id', 'building_id', 'timestamp', 'meter', 'primary_use',\n",
       "       'square_feet', 'year_built', 'floor_count', 'air_temperature',\n",
       "       'cloud_coverage', 'dew_temperature', 'precip_depth_1_hr',\n",
       "       'sea_level_pressure', 'wind_direction', 'wind_speed', 'meter_reading',\n",
       "       'year', 'month', 'quarter', 'weekofyear', 'day', 'dayofweek',\n",
       "       'dayofyear', 'is_month_start', 'is_month_end', 'is_quarter_start',\n",
       "       'is_quarter_end', 'is_year_start', 'is_year_end', 'hour',\n",
       "       'site_id_building_id', 'site_building_meter_id',\n",
       "       'site_building_meter_id_usage', 'site_id_meter', 'building_id_meter',\n",
       "       'site_id_primary_use', 'building_id_primary_use', 'meter_primary_use',\n",
       "       'building_age', 'primary_use_label'],\n",
       "      dtype='object')"
      ]
     },
     "execution_count": 24,
     "metadata": {},
     "output_type": "execute_result"
    }
   ],
   "source": [
    "train_merged.columns"
   ]
  },
  {
   "cell_type": "code",
   "execution_count": 25,
   "metadata": {},
   "outputs": [],
   "source": [
    "# Remove time stamp and meter reading\n",
    "predictors = ['site_id', 'building_id', 'meter',\n",
    "       'square_feet', 'year_built', 'floor_count', 'air_temperature',\n",
    "       'cloud_coverage', 'dew_temperature', 'precip_depth_1_hr',\n",
    "       'sea_level_pressure', 'wind_direction', 'wind_speed', \n",
    "       'year', 'month', 'quarter', 'weekofyear', 'day', 'dayofweek',\n",
    "       'dayofyear', 'is_month_start', 'is_month_end', 'is_quarter_start',\n",
    "       'is_quarter_end', 'is_year_start', 'is_year_end', 'hour',\n",
    "       'site_id_building_id', 'site_building_meter_id',\n",
    "       'site_building_meter_id_usage', 'site_id_meter', 'building_id_meter',\n",
    "       'site_id_primary_use', 'building_id_primary_use', 'meter_primary_use',\n",
    "       'building_age', 'primary_use_label']\n",
    "\n",
    "# No cat features\n",
    "# cat_fetaures = ['site_id', 'building_id', 'meter',\n",
    "#        'year_built', 'floor_count', \n",
    "#        'year', 'month', 'quarter', 'weekofyear', 'day', 'dayofweek',\n",
    "#        'dayofyear', 'is_month_start', 'is_month_end', 'is_quarter_start',\n",
    "#        'is_quarter_end', 'is_year_start', 'is_year_end', 'hour',\n",
    "#        'site_id_building_id', 'site_building_meter_id',\n",
    "#        'site_building_meter_id_usage', 'site_id_meter', 'building_id_meter',\n",
    "#        'site_id_primary_use', 'building_id_primary_use', 'meter_primary_use', \n",
    "#        'primary_use_label']\n",
    "\n",
    "#Copied the params from Konstatien's kernel\n",
    "lgb_params = {\n",
    "                'objective':'regression',\n",
    "                'boosting_type':'gbdt',\n",
    "                'metric':'rmse',\n",
    "                'n_jobs':-1,\n",
    "                'learning_rate':0.05,\n",
    "                'num_leaves': 2**8,\n",
    "                'max_depth':-1,\n",
    "                'tree_learner':'serial',\n",
    "                'colsample_bytree': 0.9,\n",
    "                'subsample_freq':1,\n",
    "                'subsample':0.5,\n",
    "                'n_estimators':2000,\n",
    "                'max_bin':255,\n",
    "                'verbose':-1,\n",
    "                'seed': SEED,\n",
    "                'early_stopping_rounds':100, \n",
    "                }"
   ]
  },
  {
   "cell_type": "markdown",
   "metadata": {},
   "source": [
    "### Validation 1 : 50% Training : 50% Holdout split without shuffle"
   ]
  },
  {
   "cell_type": "code",
   "execution_count": 26,
   "metadata": {},
   "outputs": [
    {
     "name": "stdout",
     "output_type": "stream",
     "text": [
      "Splitting the data into train and holdout with validation fraction 0.5...\n",
      "Shape of the training data (9911161, 40) \n",
      "Shape of the validation data (9911161, 40)\n"
     ]
    }
   ],
   "source": [
    "training, validation = utility.get_data_splits_by_fraction(train_merged, valid_fraction=0.5)"
   ]
  },
  {
   "cell_type": "code",
   "execution_count": 27,
   "metadata": {},
   "outputs": [
    {
     "name": "stdout",
     "output_type": "stream",
     "text": [
      "Shape of train_X : (9911161, 37)\n",
      "Shape of train_Y : (9911161,)\n",
      "Shape of validation_X : (9911161, 37)\n",
      "Shape of validation_Y : (9911161,)\n",
      "Training model!\n"
     ]
    },
    {
     "name": "stderr",
     "output_type": "stream",
     "text": [
      "/home/jupyter/anaconda3/envs/py37/lib/python3.7/site-packages/lightgbm/engine.py:148: UserWarning:\n",
      "\n",
      "Found `n_estimators` in params. Will use it instead of argument\n",
      "\n",
      "/home/jupyter/anaconda3/envs/py37/lib/python3.7/site-packages/lightgbm/engine.py:153: UserWarning:\n",
      "\n",
      "Found `early_stopping_rounds` in params. Will use it instead of argument\n",
      "\n"
     ]
    },
    {
     "name": "stdout",
     "output_type": "stream",
     "text": [
      "Training until validation scores don't improve for 100 rounds\n",
      "[100]\tvalid_0's rmse: 1.27745\n",
      "[200]\tvalid_0's rmse: 1.24682\n",
      "[300]\tvalid_0's rmse: 1.2395\n",
      "[400]\tvalid_0's rmse: 1.23646\n",
      "[500]\tvalid_0's rmse: 1.23587\n",
      "Early stopping, best iteration is:\n",
      "[449]\tvalid_0's rmse: 1.23495\n",
      "Validation Score 1.2349522481491462\n"
     ]
    }
   ],
   "source": [
    "bst, valid_score = utility.train_model(training, validation, predictors, TARGET, params=lgb_params)"
   ]
  },
  {
   "cell_type": "code",
   "execution_count": 29,
   "metadata": {},
   "outputs": [
    {
     "ename": "NameError",
     "evalue": "name 'training' is not defined",
     "output_type": "error",
     "traceback": [
      "\u001b[0;31m---------------------------------------------------------------------------\u001b[0m",
      "\u001b[0;31mNameError\u001b[0m                                 Traceback (most recent call last)",
      "\u001b[0;32m<ipython-input-29-39b898318d7f>\u001b[0m in \u001b[0;36m<module>\u001b[0;34m\u001b[0m\n\u001b[0;32m----> 1\u001b[0;31m \u001b[0;32mdel\u001b[0m \u001b[0mtraining\u001b[0m\u001b[0;34m,\u001b[0m \u001b[0mvalidation\u001b[0m\u001b[0;34m,\u001b[0m \u001b[0mbst\u001b[0m\u001b[0;34m,\u001b[0m \u001b[0mvalid_score\u001b[0m\u001b[0;34m\u001b[0m\u001b[0;34m\u001b[0m\u001b[0m\n\u001b[0m\u001b[1;32m      2\u001b[0m \u001b[0mgc\u001b[0m\u001b[0;34m.\u001b[0m\u001b[0mcollect\u001b[0m\u001b[0;34m(\u001b[0m\u001b[0;34m)\u001b[0m\u001b[0;34m\u001b[0m\u001b[0;34m\u001b[0m\u001b[0m\n",
      "\u001b[0;31mNameError\u001b[0m: name 'training' is not defined"
     ]
    }
   ],
   "source": [
    "del training, validation, bst, valid_score\n",
    "gc.collect()"
   ]
  },
  {
   "cell_type": "markdown",
   "metadata": {},
   "source": [
    "### Validation 2 : Train on first 4 months, skip next 4 months, Test on last 4 months"
   ]
  },
  {
   "cell_type": "code",
   "execution_count": 30,
   "metadata": {},
   "outputs": [
    {
     "name": "stdout",
     "output_type": "stream",
     "text": [
      "Splitting the data into train and holdout based on months...\n",
      "Training months [1, 2, 3, 4]\n",
      "Validation months [9, 10, 11, 12]\n",
      "Shape of the training data (6134847, 40) \n",
      "Shape of the validation data (6857643, 40)\n"
     ]
    }
   ],
   "source": [
    "# Training on 1st four months\n",
    "train_months = [1, 2, 3, 4]\n",
    "# Holdout on last four months\n",
    "validation_months = [9, 10, 11, 12]\n",
    "\n",
    "training, validation = utility.get_data_splits_by_month(train_merged, \n",
    "                                                        train_months=train_months, \n",
    "                                                        validation_months=validation_months)"
   ]
  },
  {
   "cell_type": "code",
   "execution_count": 31,
   "metadata": {},
   "outputs": [
    {
     "name": "stdout",
     "output_type": "stream",
     "text": [
      "Shape of train_X : (6134847, 37)\n",
      "Shape of train_Y : (6134847,)\n",
      "Shape of validation_X : (6857643, 37)\n",
      "Shape of validation_Y : (6857643,)\n",
      "Training model!\n"
     ]
    },
    {
     "name": "stderr",
     "output_type": "stream",
     "text": [
      "/home/jupyter/anaconda3/envs/py37/lib/python3.7/site-packages/lightgbm/engine.py:148: UserWarning:\n",
      "\n",
      "Found `n_estimators` in params. Will use it instead of argument\n",
      "\n",
      "/home/jupyter/anaconda3/envs/py37/lib/python3.7/site-packages/lightgbm/engine.py:153: UserWarning:\n",
      "\n",
      "Found `early_stopping_rounds` in params. Will use it instead of argument\n",
      "\n"
     ]
    },
    {
     "name": "stdout",
     "output_type": "stream",
     "text": [
      "Training until validation scores don't improve for 100 rounds\n",
      "[100]\tvalid_0's rmse: 1.51817\n",
      "[200]\tvalid_0's rmse: 1.50913\n",
      "Early stopping, best iteration is:\n",
      "[154]\tvalid_0's rmse: 1.50159\n",
      "Validation Score 1.501587432653443\n"
     ]
    }
   ],
   "source": [
    "bst, valid_score = utility.train_model(training, \n",
    "                               validation, \n",
    "                               predictors, \n",
    "                               TARGET, \n",
    "                               params=lgb_params)"
   ]
  },
  {
   "cell_type": "code",
   "execution_count": 32,
   "metadata": {},
   "outputs": [
    {
     "data": {
      "text/plain": [
       "246"
      ]
     },
     "execution_count": 32,
     "metadata": {},
     "output_type": "execute_result"
    }
   ],
   "source": [
    "del train_months, validation_months, training, validation, bst, valid_score\n",
    "gc.collect()"
   ]
  },
  {
   "cell_type": "markdown",
   "metadata": {},
   "source": [
    "### Make Prediction on test data"
   ]
  },
  {
   "cell_type": "code",
   "execution_count": 33,
   "metadata": {},
   "outputs": [
    {
     "name": "stdout",
     "output_type": "stream",
     "text": [
      "Size of train_X (19822322, 37)\n",
      "Size of train_Y (19822322,)\n",
      "Size of test_X (41697600, 37)\n",
      "Size of test_row_id (41697600,)\n"
     ]
    }
   ],
   "source": [
    "train_X = train_merged[predictors]\n",
    "train_Y = np.log1p(train_merged[TARGET])\n",
    "test_X = test_merged[predictors]\n",
    "test_row_id = test_merged['row_id']\n",
    "\n",
    "print(f'Size of train_X {train_X.shape}')\n",
    "print(f'Size of train_Y {train_Y.shape}')\n",
    "print(f'Size of test_X {test_X.shape}')\n",
    "print(f'Size of test_row_id {test_row_id.shape}')"
   ]
  },
  {
   "cell_type": "code",
   "execution_count": 34,
   "metadata": {},
   "outputs": [
    {
     "data": {
      "text/html": [
       "<div>\n",
       "<style scoped>\n",
       "    .dataframe tbody tr th:only-of-type {\n",
       "        vertical-align: middle;\n",
       "    }\n",
       "\n",
       "    .dataframe tbody tr th {\n",
       "        vertical-align: top;\n",
       "    }\n",
       "\n",
       "    .dataframe thead th {\n",
       "        text-align: right;\n",
       "    }\n",
       "</style>\n",
       "<table border=\"1\" class=\"dataframe\">\n",
       "  <thead>\n",
       "    <tr style=\"text-align: right;\">\n",
       "      <th></th>\n",
       "      <th>site_id</th>\n",
       "      <th>building_id</th>\n",
       "      <th>meter</th>\n",
       "      <th>square_feet</th>\n",
       "      <th>year_built</th>\n",
       "      <th>floor_count</th>\n",
       "      <th>air_temperature</th>\n",
       "      <th>cloud_coverage</th>\n",
       "      <th>dew_temperature</th>\n",
       "      <th>precip_depth_1_hr</th>\n",
       "      <th>sea_level_pressure</th>\n",
       "      <th>wind_direction</th>\n",
       "      <th>wind_speed</th>\n",
       "      <th>year</th>\n",
       "      <th>month</th>\n",
       "      <th>quarter</th>\n",
       "      <th>weekofyear</th>\n",
       "      <th>day</th>\n",
       "      <th>dayofweek</th>\n",
       "      <th>dayofyear</th>\n",
       "      <th>is_month_start</th>\n",
       "      <th>is_month_end</th>\n",
       "      <th>is_quarter_start</th>\n",
       "      <th>is_quarter_end</th>\n",
       "      <th>is_year_start</th>\n",
       "      <th>is_year_end</th>\n",
       "      <th>hour</th>\n",
       "      <th>site_id_building_id</th>\n",
       "      <th>site_building_meter_id</th>\n",
       "      <th>site_building_meter_id_usage</th>\n",
       "      <th>site_id_meter</th>\n",
       "      <th>building_id_meter</th>\n",
       "      <th>site_id_primary_use</th>\n",
       "      <th>building_id_primary_use</th>\n",
       "      <th>meter_primary_use</th>\n",
       "      <th>building_age</th>\n",
       "      <th>primary_use_label</th>\n",
       "    </tr>\n",
       "  </thead>\n",
       "  <tbody>\n",
       "    <tr>\n",
       "      <td>0</td>\n",
       "      <td>0</td>\n",
       "      <td>53</td>\n",
       "      <td>0</td>\n",
       "      <td>87742</td>\n",
       "      <td>1971</td>\n",
       "      <td>99</td>\n",
       "      <td>25.0</td>\n",
       "      <td>6.0</td>\n",
       "      <td>20.0</td>\n",
       "      <td>NaN</td>\n",
       "      <td>1019.700012</td>\n",
       "      <td>0.0</td>\n",
       "      <td>0.0</td>\n",
       "      <td>2016</td>\n",
       "      <td>1</td>\n",
       "      <td>1</td>\n",
       "      <td>53</td>\n",
       "      <td>1</td>\n",
       "      <td>4</td>\n",
       "      <td>1</td>\n",
       "      <td>1</td>\n",
       "      <td>0</td>\n",
       "      <td>1</td>\n",
       "      <td>0</td>\n",
       "      <td>1</td>\n",
       "      <td>0</td>\n",
       "      <td>0</td>\n",
       "      <td>54</td>\n",
       "      <td>63</td>\n",
       "      <td>63</td>\n",
       "      <td>0</td>\n",
       "      <td>1607</td>\n",
       "      <td>3</td>\n",
       "      <td>937</td>\n",
       "      <td>6</td>\n",
       "      <td>48</td>\n",
       "      <td>6</td>\n",
       "    </tr>\n",
       "    <tr>\n",
       "      <td>1</td>\n",
       "      <td>1</td>\n",
       "      <td>105</td>\n",
       "      <td>0</td>\n",
       "      <td>50623</td>\n",
       "      <td>1800</td>\n",
       "      <td>5</td>\n",
       "      <td>3.8</td>\n",
       "      <td>NaN</td>\n",
       "      <td>2.4</td>\n",
       "      <td>NaN</td>\n",
       "      <td>1020.900024</td>\n",
       "      <td>240.0</td>\n",
       "      <td>3.1</td>\n",
       "      <td>2016</td>\n",
       "      <td>1</td>\n",
       "      <td>1</td>\n",
       "      <td>53</td>\n",
       "      <td>1</td>\n",
       "      <td>4</td>\n",
       "      <td>1</td>\n",
       "      <td>1</td>\n",
       "      <td>0</td>\n",
       "      <td>1</td>\n",
       "      <td>0</td>\n",
       "      <td>1</td>\n",
       "      <td>0</td>\n",
       "      <td>0</td>\n",
       "      <td>556</td>\n",
       "      <td>1076</td>\n",
       "      <td>1076</td>\n",
       "      <td>20</td>\n",
       "      <td>94</td>\n",
       "      <td>50</td>\n",
       "      <td>66</td>\n",
       "      <td>0</td>\n",
       "      <td>219</td>\n",
       "      <td>0</td>\n",
       "    </tr>\n",
       "    <tr>\n",
       "      <td>2</td>\n",
       "      <td>1</td>\n",
       "      <td>106</td>\n",
       "      <td>0</td>\n",
       "      <td>5374</td>\n",
       "      <td>1800</td>\n",
       "      <td>4</td>\n",
       "      <td>3.8</td>\n",
       "      <td>NaN</td>\n",
       "      <td>2.4</td>\n",
       "      <td>NaN</td>\n",
       "      <td>1020.900024</td>\n",
       "      <td>240.0</td>\n",
       "      <td>3.1</td>\n",
       "      <td>2016</td>\n",
       "      <td>1</td>\n",
       "      <td>1</td>\n",
       "      <td>53</td>\n",
       "      <td>1</td>\n",
       "      <td>4</td>\n",
       "      <td>1</td>\n",
       "      <td>1</td>\n",
       "      <td>0</td>\n",
       "      <td>1</td>\n",
       "      <td>0</td>\n",
       "      <td>1</td>\n",
       "      <td>0</td>\n",
       "      <td>0</td>\n",
       "      <td>557</td>\n",
       "      <td>1077</td>\n",
       "      <td>1077</td>\n",
       "      <td>20</td>\n",
       "      <td>105</td>\n",
       "      <td>50</td>\n",
       "      <td>77</td>\n",
       "      <td>0</td>\n",
       "      <td>219</td>\n",
       "      <td>0</td>\n",
       "    </tr>\n",
       "    <tr>\n",
       "      <td>3</td>\n",
       "      <td>1</td>\n",
       "      <td>106</td>\n",
       "      <td>3</td>\n",
       "      <td>5374</td>\n",
       "      <td>1800</td>\n",
       "      <td>4</td>\n",
       "      <td>3.8</td>\n",
       "      <td>NaN</td>\n",
       "      <td>2.4</td>\n",
       "      <td>NaN</td>\n",
       "      <td>1020.900024</td>\n",
       "      <td>240.0</td>\n",
       "      <td>3.1</td>\n",
       "      <td>2016</td>\n",
       "      <td>1</td>\n",
       "      <td>1</td>\n",
       "      <td>53</td>\n",
       "      <td>1</td>\n",
       "      <td>4</td>\n",
       "      <td>1</td>\n",
       "      <td>1</td>\n",
       "      <td>0</td>\n",
       "      <td>1</td>\n",
       "      <td>0</td>\n",
       "      <td>1</td>\n",
       "      <td>0</td>\n",
       "      <td>0</td>\n",
       "      <td>557</td>\n",
       "      <td>1078</td>\n",
       "      <td>1078</td>\n",
       "      <td>21</td>\n",
       "      <td>106</td>\n",
       "      <td>50</td>\n",
       "      <td>77</td>\n",
       "      <td>44</td>\n",
       "      <td>219</td>\n",
       "      <td>0</td>\n",
       "    </tr>\n",
       "    <tr>\n",
       "      <td>4</td>\n",
       "      <td>1</td>\n",
       "      <td>107</td>\n",
       "      <td>0</td>\n",
       "      <td>97532</td>\n",
       "      <td>2005</td>\n",
       "      <td>10</td>\n",
       "      <td>3.8</td>\n",
       "      <td>NaN</td>\n",
       "      <td>2.4</td>\n",
       "      <td>NaN</td>\n",
       "      <td>1020.900024</td>\n",
       "      <td>240.0</td>\n",
       "      <td>3.1</td>\n",
       "      <td>2016</td>\n",
       "      <td>1</td>\n",
       "      <td>1</td>\n",
       "      <td>53</td>\n",
       "      <td>1</td>\n",
       "      <td>4</td>\n",
       "      <td>1</td>\n",
       "      <td>1</td>\n",
       "      <td>0</td>\n",
       "      <td>1</td>\n",
       "      <td>0</td>\n",
       "      <td>1</td>\n",
       "      <td>0</td>\n",
       "      <td>0</td>\n",
       "      <td>558</td>\n",
       "      <td>1079</td>\n",
       "      <td>1079</td>\n",
       "      <td>20</td>\n",
       "      <td>128</td>\n",
       "      <td>50</td>\n",
       "      <td>88</td>\n",
       "      <td>0</td>\n",
       "      <td>14</td>\n",
       "      <td>0</td>\n",
       "    </tr>\n",
       "  </tbody>\n",
       "</table>\n",
       "</div>"
      ],
      "text/plain": [
       "   site_id  building_id  meter  square_feet  year_built  floor_count  \\\n",
       "0        0           53      0        87742        1971           99   \n",
       "1        1          105      0        50623        1800            5   \n",
       "2        1          106      0         5374        1800            4   \n",
       "3        1          106      3         5374        1800            4   \n",
       "4        1          107      0        97532        2005           10   \n",
       "\n",
       "   air_temperature  cloud_coverage  dew_temperature  precip_depth_1_hr  \\\n",
       "0             25.0             6.0             20.0                NaN   \n",
       "1              3.8             NaN              2.4                NaN   \n",
       "2              3.8             NaN              2.4                NaN   \n",
       "3              3.8             NaN              2.4                NaN   \n",
       "4              3.8             NaN              2.4                NaN   \n",
       "\n",
       "   sea_level_pressure  wind_direction  wind_speed  year  month  quarter  \\\n",
       "0         1019.700012             0.0         0.0  2016      1        1   \n",
       "1         1020.900024           240.0         3.1  2016      1        1   \n",
       "2         1020.900024           240.0         3.1  2016      1        1   \n",
       "3         1020.900024           240.0         3.1  2016      1        1   \n",
       "4         1020.900024           240.0         3.1  2016      1        1   \n",
       "\n",
       "   weekofyear  day  dayofweek  dayofyear  is_month_start  is_month_end  \\\n",
       "0          53    1          4          1               1             0   \n",
       "1          53    1          4          1               1             0   \n",
       "2          53    1          4          1               1             0   \n",
       "3          53    1          4          1               1             0   \n",
       "4          53    1          4          1               1             0   \n",
       "\n",
       "   is_quarter_start  is_quarter_end  is_year_start  is_year_end  hour  \\\n",
       "0                 1               0              1            0     0   \n",
       "1                 1               0              1            0     0   \n",
       "2                 1               0              1            0     0   \n",
       "3                 1               0              1            0     0   \n",
       "4                 1               0              1            0     0   \n",
       "\n",
       "   site_id_building_id  site_building_meter_id  site_building_meter_id_usage  \\\n",
       "0                   54                      63                            63   \n",
       "1                  556                    1076                          1076   \n",
       "2                  557                    1077                          1077   \n",
       "3                  557                    1078                          1078   \n",
       "4                  558                    1079                          1079   \n",
       "\n",
       "   site_id_meter  building_id_meter  site_id_primary_use  \\\n",
       "0              0               1607                    3   \n",
       "1             20                 94                   50   \n",
       "2             20                105                   50   \n",
       "3             21                106                   50   \n",
       "4             20                128                   50   \n",
       "\n",
       "   building_id_primary_use  meter_primary_use  building_age  primary_use_label  \n",
       "0                      937                  6            48                  6  \n",
       "1                       66                  0           219                  0  \n",
       "2                       77                  0           219                  0  \n",
       "3                       77                 44           219                  0  \n",
       "4                       88                  0            14                  0  "
      ]
     },
     "execution_count": 34,
     "metadata": {},
     "output_type": "execute_result"
    }
   ],
   "source": [
    "train_X.head()"
   ]
  },
  {
   "cell_type": "code",
   "execution_count": 35,
   "metadata": {},
   "outputs": [
    {
     "data": {
      "text/plain": [
       "22"
      ]
     },
     "execution_count": 35,
     "metadata": {},
     "output_type": "execute_result"
    }
   ],
   "source": [
    "del train_merged, test_merged\n",
    "gc.collect()"
   ]
  },
  {
   "cell_type": "code",
   "execution_count": 40,
   "metadata": {},
   "outputs": [],
   "source": [
    "def make_prediction(df_train_X, df_train_Y, df_test_X, params, categorical_feature=None, n_splits=5):\n",
    "    yoof = np.zeros(len(df_train_X))\n",
    "    yhat = np.zeros(len(df_test_X))\n",
    "    cv_scores = []\n",
    "    result_dict = {}\n",
    "    \n",
    "    kf = KFold(n_splits=n_splits, random_state=SEED, shuffle=False)\n",
    "\n",
    "    fold = 0\n",
    "    for in_index, oof_index in kf.split(df_train_X, df_train_Y):\n",
    "        fold += 1\n",
    "        print(f'fold {fold} of {n_splits}')\n",
    "        X_in, X_oof = df_train_X.iloc[in_index], df_train_X.iloc[oof_index]\n",
    "        y_in, y_oof = df_train_Y.iloc[in_index], df_train_Y.iloc[oof_index]\n",
    "        \n",
    "        if categorical_feature:\n",
    "            lgb_train = lgb.Dataset(X_in, y_in, categorical_feature=categorical_feature)\n",
    "            lgb_eval = lgb.Dataset(X_oof, y_oof, reference=lgb_train, categorical_feature=categorical_feature)\n",
    "        else:\n",
    "            lgb_train = lgb.Dataset(X_in, y_in)\n",
    "            lgb_eval = lgb.Dataset(X_oof, y_oof, reference=lgb_train)\n",
    "        \n",
    "        model = lgb.train(\n",
    "            params,\n",
    "            lgb_train,\n",
    "            valid_sets = [lgb_train, lgb_eval],\n",
    "            verbose_eval = 50\n",
    "        )   \n",
    "        \n",
    "        del lgb_train, lgb_eval, in_index, X_in, y_in \n",
    "        gc.collect()\n",
    "        \n",
    "        print('Training completed')\n",
    "        yoof[oof_index] = model.predict(X_oof)\n",
    "        print('OOF Prediction completed.')\n",
    "        prediction = model.predict(df_test_X.values)\n",
    "        print('Shape of prediction', prediction.shape)\n",
    "        yhat += np.expm1(prediction)\n",
    "        print('Prediction completed')\n",
    "        cv_oof_score = np.sqrt(metrics.mean_squared_error(y_oof, yoof[oof_index]))\n",
    "        print(f'CV OOF Score for fold {fold} is {cv_oof_score}')\n",
    "        cv_scores.append(cv_oof_score)\n",
    "        \n",
    "        del oof_index, X_oof, y_oof\n",
    "        gc.collect()\n",
    "\n",
    "    yhat /= n_splits\n",
    "\n",
    "    oof_score = round(np.sqrt(metrics.mean_squared_error(df_train_Y, yoof)), 5)\n",
    "    avg_cv_scores = round(sum(cv_scores)/len(cv_scores), 5)\n",
    "    std_cv_scores = round(np.array(cv_scores).std(), 5)\n",
    "\n",
    "    print(f'Combined OOF score : {oof_score}')\n",
    "    print(f'Average of {fold} folds OOF score {avg_cv_scores}')\n",
    "    print(f'std of {fold} folds OOF score {std_cv_scores}')\n",
    "    \n",
    "    result_dict['yoof'] = yoof\n",
    "    result_dict['prediction'] = yhat\n",
    "    result_dict['oof_score'] = oof_score\n",
    "    result_dict['cv_scores'] = cv_scores\n",
    "    result_dict['avg_cv_scores'] = avg_cv_scores\n",
    "    result_dict['std_cv_scores'] = std_cv_scores\n",
    "    \n",
    "    return result_dict"
   ]
  },
  {
   "cell_type": "code",
   "execution_count": 41,
   "metadata": {},
   "outputs": [
    {
     "name": "stdout",
     "output_type": "stream",
     "text": [
      "fold 1 of 2\n"
     ]
    },
    {
     "name": "stderr",
     "output_type": "stream",
     "text": [
      "/home/jupyter/anaconda3/envs/py37/lib/python3.7/site-packages/lightgbm/engine.py:148: UserWarning:\n",
      "\n",
      "Found `n_estimators` in params. Will use it instead of argument\n",
      "\n",
      "/home/jupyter/anaconda3/envs/py37/lib/python3.7/site-packages/lightgbm/engine.py:153: UserWarning:\n",
      "\n",
      "Found `early_stopping_rounds` in params. Will use it instead of argument\n",
      "\n"
     ]
    },
    {
     "name": "stdout",
     "output_type": "stream",
     "text": [
      "Training until validation scores don't improve for 100 rounds\n",
      "[50]\ttraining's rmse: 1.08064\tvalid_1's rmse: 1.39217\n",
      "[100]\ttraining's rmse: 0.900642\tvalid_1's rmse: 1.32154\n",
      "[150]\ttraining's rmse: 0.8126\tvalid_1's rmse: 1.30329\n",
      "[200]\ttraining's rmse: 0.759432\tvalid_1's rmse: 1.29535\n",
      "[250]\ttraining's rmse: 0.723463\tvalid_1's rmse: 1.29132\n",
      "[300]\ttraining's rmse: 0.695121\tvalid_1's rmse: 1.29066\n",
      "[350]\ttraining's rmse: 0.674813\tvalid_1's rmse: 1.29032\n",
      "[400]\ttraining's rmse: 0.657783\tvalid_1's rmse: 1.29088\n",
      "Early stopping, best iteration is:\n",
      "[331]\ttraining's rmse: 0.681802\tvalid_1's rmse: 1.2898\n",
      "Training completed\n",
      "OOF Prediction completed.\n",
      "Shape of prediction (41697600,)\n",
      "Prediction completed\n",
      "CV OOF Score for fold 1 is 1.2898028146827905\n",
      "fold 2 of 2\n"
     ]
    },
    {
     "name": "stderr",
     "output_type": "stream",
     "text": [
      "/home/jupyter/anaconda3/envs/py37/lib/python3.7/site-packages/lightgbm/engine.py:148: UserWarning:\n",
      "\n",
      "Found `n_estimators` in params. Will use it instead of argument\n",
      "\n",
      "/home/jupyter/anaconda3/envs/py37/lib/python3.7/site-packages/lightgbm/engine.py:153: UserWarning:\n",
      "\n",
      "Found `early_stopping_rounds` in params. Will use it instead of argument\n",
      "\n"
     ]
    },
    {
     "name": "stdout",
     "output_type": "stream",
     "text": [
      "Training until validation scores don't improve for 100 rounds\n",
      "[50]\ttraining's rmse: 1.05793\tvalid_1's rmse: 1.32977\n",
      "[100]\ttraining's rmse: 0.883487\tvalid_1's rmse: 1.27746\n",
      "[150]\ttraining's rmse: 0.798166\tvalid_1's rmse: 1.25987\n",
      "[200]\ttraining's rmse: 0.751229\tvalid_1's rmse: 1.24673\n",
      "[250]\ttraining's rmse: 0.719529\tvalid_1's rmse: 1.24165\n",
      "[300]\ttraining's rmse: 0.69635\tvalid_1's rmse: 1.23941\n",
      "[350]\ttraining's rmse: 0.674947\tvalid_1's rmse: 1.23691\n",
      "[400]\ttraining's rmse: 0.660671\tvalid_1's rmse: 1.2364\n",
      "[450]\ttraining's rmse: 0.645606\tvalid_1's rmse: 1.23508\n",
      "[500]\ttraining's rmse: 0.631892\tvalid_1's rmse: 1.23583\n",
      "Early stopping, best iteration is:\n",
      "[449]\ttraining's rmse: 0.645839\tvalid_1's rmse: 1.2349\n",
      "Training completed\n",
      "OOF Prediction completed.\n",
      "Shape of prediction (41697600,)\n",
      "Prediction completed\n",
      "CV OOF Score for fold 2 is 1.2349035395707257\n",
      "Combined OOF score : 1.26265\n",
      "Average of 2 folds OOF score 1.26235\n",
      "std of 2 folds OOF score 0.02745\n"
     ]
    }
   ],
   "source": [
    "SEED= 42\n",
    "result_dict = make_prediction(train_X, train_Y, test_X, params=lgb_params, n_splits=2)"
   ]
  },
  {
   "cell_type": "code",
   "execution_count": 43,
   "metadata": {},
   "outputs": [
    {
     "data": {
      "text/plain": [
       "6"
      ]
     },
     "execution_count": 43,
     "metadata": {},
     "output_type": "execute_result"
    }
   ],
   "source": [
    "len(result_dict)"
   ]
  },
  {
   "cell_type": "code",
   "execution_count": 44,
   "metadata": {},
   "outputs": [
    {
     "data": {
      "text/plain": [
       "{'yoof': array([2.77492473, 4.18114844, 0.95238502, ..., 0.81422228, 4.85963582,\n",
       "        1.49403132]),\n",
       " 'prediction': array([128.62145318,  55.29981104,  13.48442946, ...,   1.52492067,\n",
       "        131.53845171,   3.53290853]),\n",
       " 'oof_score': 1.26265,\n",
       " 'cv_scores': [1.2898028146827905, 1.2349035395707257],\n",
       " 'avg_cv_scores': 1.26235,\n",
       " 'std_cv_scores': 0.02745}"
      ]
     },
     "execution_count": 44,
     "metadata": {},
     "output_type": "execute_result"
    }
   ],
   "source": [
    "result_dict"
   ]
  },
  {
   "cell_type": "code",
   "execution_count": 45,
   "metadata": {},
   "outputs": [
    {
     "name": "stderr",
     "output_type": "stream",
     "text": [
      "/home/jupyter/anaconda3/envs/py37/lib/python3.7/site-packages/pyarrow/pandas_compat.py:752: FutureWarning:\n",
      "\n",
      ".labels was deprecated in version 0.24.0. Use .codes instead.\n",
      "\n"
     ]
    }
   ],
   "source": [
    "predictions = result_dict['prediction']\n",
    "\n",
    "submission_df =  feather.read_dataframe(f'{utility.CREATED_DATA_DIR}/submission.feather')\n",
    "\n",
    "submission_df.row_id = test_row_id\n",
    "submission_df.meter_reading = predictions"
   ]
  },
  {
   "cell_type": "code",
   "execution_count": null,
   "metadata": {},
   "outputs": [],
   "source": [
    "submission_df.to_csv()"
   ]
  },
  {
   "cell_type": "code",
   "execution_count": null,
   "metadata": {},
   "outputs": [],
   "source": [
    "submission_df.to_csv('submission_7.csv.gz', index=False, compression='gzip')"
   ]
  },
  {
   "cell_type": "code",
   "execution_count": null,
   "metadata": {},
   "outputs": [],
   "source": [
    "! /home/jupyter/.local/bin/kaggle competitions submit -c ashrae-energy-prediction -f submission_7.csv.gz -m \"Instead of LGBM taking care of cat variables, I am doing vanilla Label Encoding\""
   ]
  },
  {
   "cell_type": "code",
   "execution_count": null,
   "metadata": {},
   "outputs": [],
   "source": []
  },
  {
   "cell_type": "code",
   "execution_count": null,
   "metadata": {},
   "outputs": [],
   "source": []
  }
 ],
 "metadata": {
  "kernelspec": {
   "display_name": "py_37",
   "language": "python",
   "name": "py_37"
  },
  "language_info": {
   "codemirror_mode": {
    "name": "ipython",
    "version": 3
   },
   "file_extension": ".py",
   "mimetype": "text/x-python",
   "name": "python",
   "nbconvert_exporter": "python",
   "pygments_lexer": "ipython3",
   "version": "3.7.4"
  }
 },
 "nbformat": 4,
 "nbformat_minor": 4
}
