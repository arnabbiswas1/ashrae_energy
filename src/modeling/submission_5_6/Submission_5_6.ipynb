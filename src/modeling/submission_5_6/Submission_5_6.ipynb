{
 "cells": [
  {
   "cell_type": "code",
   "execution_count": 1,
   "metadata": {},
   "outputs": [],
   "source": [
    "import pandas as pd\n",
    "import numpy as np\n",
    "import random\n",
    "import feather\n",
    "import gc\n",
    "import json\n",
    "from sklearn.preprocessing import LabelEncoder\n",
    "from sklearn import metrics\n",
    "import lightgbm as lgb\n",
    "from sklearn.model_selection import KFold\n",
    "import sys\n",
    "\n",
    "sys.path.insert(0, \"/home/jupyter/kaggle/energy/src\")\n",
    "import utility\n",
    "\n",
    "pd.options.display.max_rows = 100\n",
    "pd.options.display.max_columns = 100"
   ]
  },
  {
   "cell_type": "code",
   "execution_count": 19,
   "metadata": {},
   "outputs": [],
   "source": [
    "SEED = 42\n",
    "LOCAl_TEST = True\n",
    "utility.set_seed(SEED)\n",
    "TARGET = 'meter_reading'"
   ]
  },
  {
   "cell_type": "code",
   "execution_count": 3,
   "metadata": {},
   "outputs": [
    {
     "name": "stderr",
     "output_type": "stream",
     "text": [
      "/home/jupyter/anaconda3/envs/py37/lib/python3.7/site-packages/pyarrow/pandas_compat.py:752: FutureWarning:\n",
      "\n",
      ".labels was deprecated in version 0.24.0. Use .codes instead.\n",
      "\n"
     ]
    },
    {
     "name": "stdout",
     "output_type": "stream",
     "text": [
      "(19822322, 16) (41697600, 16) (19822322, 25) (41697600, 25)\n"
     ]
    }
   ],
   "source": [
    "# Gather the original data frames\n",
    "train_df = pd.read_feather(f'{utility.CREATED_FEATURE_DIR}/train_data_cleaned_site_0.feather')\n",
    "test_df = pd.read_feather(f'{utility.CREATED_DATA_DIR}/test_merged.feather')\n",
    "\n",
    "# Gather the generated features\n",
    "train_features_df = pd.read_feather(f'{utility.CREATED_FEATURE_DIR}/train_features.feather')\n",
    "test_features_df = pd.read_feather(f'{utility.CREATED_FEATURE_DIR}/test_features.feather')\n",
    "\n",
    "print(train_df.shape, test_df.shape, train_features_df.shape, test_features_df.shape)\n",
    "#print(train_df.shape, test_df.shape)\n",
    "\n",
    "# Remove the minute and second related features\n",
    "train_features_df.drop(['minute', 'second'], axis=1, inplace=True)\n",
    "test_features_df.drop(['minute', 'second'], axis=1, inplace=True)"
   ]
  },
  {
   "cell_type": "code",
   "execution_count": 20,
   "metadata": {},
   "outputs": [
    {
     "name": "stdout",
     "output_type": "stream",
     "text": [
      "2760\n"
     ]
    }
   ],
   "source": [
    "utility.trigger_gc()"
   ]
  },
  {
   "cell_type": "code",
   "execution_count": 5,
   "metadata": {},
   "outputs": [
    {
     "name": "stdout",
     "output_type": "stream",
     "text": [
      "LabelEncoder of feature [primary_use] is saved at [primary_use_label]\n"
     ]
    }
   ],
   "source": [
    "# Label Encode primary_use\n",
    "train_features_df, test_features_df = utility.do_label_encoding(train_df, \n",
    "                                                        test_df, \n",
    "                                                        train_features_df, \n",
    "                                                        test_features_df, \n",
    "                                                        ['primary_use'], 'label')"
   ]
  },
  {
   "cell_type": "code",
   "execution_count": 13,
   "metadata": {},
   "outputs": [
    {
     "name": "stdout",
     "output_type": "stream",
     "text": [
      "LabelEncoder the feature [site_id_building_id]\n",
      "LabelEncoder the feature [site_building_meter_id]\n",
      "LabelEncoder the feature [site_building_meter_id_usage]\n",
      "LabelEncoder the feature [site_id_meter]\n",
      "LabelEncoder the feature [building_id_meter]\n",
      "LabelEncoder the feature [site_id_primary_use]\n",
      "LabelEncoder the feature [building_id_primary_use]\n",
      "LabelEncoder the feature [meter_primary_use]\n"
     ]
    }
   ],
   "source": [
    "cat_features = ['site_id_building_id', 'site_building_meter_id',\n",
    "       'site_building_meter_id_usage', 'site_id_meter', 'building_id_meter',\n",
    "       'site_id_primary_use', 'building_id_primary_use', 'meter_primary_use']\n",
    "\n",
    "train_features_df, test_features_df = utility.do_label_encoding(train_features_df, \n",
    "                                                            test_features_df, \n",
    "                                                            train_features_df, \n",
    "                                                            test_features_df, \n",
    "                                                            cat_features)"
   ]
  },
  {
   "cell_type": "code",
   "execution_count": 14,
   "metadata": {},
   "outputs": [],
   "source": [
    "# Convert boolean variables to 0 or 1\n",
    "bool_fetaure_list = train_features_df.select_dtypes('bool').columns\n",
    "\n",
    "def convert_to_int(df, feature_names):\n",
    "    for feature_name in feature_names:\n",
    "        df.loc[:, feature_name] = df[feature_name].astype('int')\n",
    "    return df"
   ]
  },
  {
   "cell_type": "code",
   "execution_count": 15,
   "metadata": {},
   "outputs": [],
   "source": [
    "train_features_df = convert_to_int(train_features_df, bool_fetaure_list)\n",
    "\n",
    "test_features_df = convert_to_int(test_features_df, bool_fetaure_list)"
   ]
  },
  {
   "cell_type": "code",
   "execution_count": 16,
   "metadata": {},
   "outputs": [
    {
     "name": "stdout",
     "output_type": "stream",
     "text": [
      "Shape of train_merged (19822322, 40)\n",
      "2630\n",
      "Shape of train_merged (41697600, 40)\n",
      "0\n"
     ]
    }
   ],
   "source": [
    "train_merged = pd.concat([train_df, train_features_df], axis=1)\n",
    "print(f'Shape of train_merged {train_merged.shape}')\n",
    "\n",
    "del train_df, train_features_df\n",
    "utility.trigger_gc()\n",
    "\n",
    "test_merged = pd.concat([test_df, test_features_df], axis=1)\n",
    "print(f'Shape of train_merged {test_merged.shape}')\n",
    "\n",
    "del test_df, test_features_df\n",
    "utility.trigger_gc()"
   ]
  },
  {
   "cell_type": "markdown",
   "metadata": {},
   "source": [
    "### Feature Engineering"
   ]
  },
  {
   "cell_type": "code",
   "execution_count": 17,
   "metadata": {},
   "outputs": [
    {
     "data": {
      "text/plain": [
       "Index(['site_id', 'building_id', 'timestamp', 'meter', 'primary_use',\n",
       "       'square_feet', 'year_built', 'floor_count', 'air_temperature',\n",
       "       'cloud_coverage', 'dew_temperature', 'precip_depth_1_hr',\n",
       "       'sea_level_pressure', 'wind_direction', 'wind_speed', 'meter_reading',\n",
       "       'year', 'month', 'quarter', 'weekofyear', 'day', 'dayofweek',\n",
       "       'dayofyear', 'is_month_start', 'is_month_end', 'is_quarter_start',\n",
       "       'is_quarter_end', 'is_year_start', 'is_year_end', 'hour',\n",
       "       'site_id_building_id', 'site_building_meter_id',\n",
       "       'site_building_meter_id_usage', 'site_id_meter', 'building_id_meter',\n",
       "       'site_id_primary_use', 'building_id_primary_use', 'meter_primary_use',\n",
       "       'building_age', 'primary_use_label'],\n",
       "      dtype='object')"
      ]
     },
     "execution_count": 17,
     "metadata": {},
     "output_type": "execute_result"
    }
   ],
   "source": [
    "train_merged.columns"
   ]
  },
  {
   "cell_type": "code",
   "execution_count": 20,
   "metadata": {},
   "outputs": [],
   "source": [
    "# Remove time stamp and meter reading\n",
    "predictors = ['site_id', 'building_id', 'meter',\n",
    "       'square_feet', 'year_built', 'floor_count', 'air_temperature',\n",
    "       'cloud_coverage', 'dew_temperature', 'precip_depth_1_hr',\n",
    "       'sea_level_pressure', 'wind_direction', 'wind_speed', \n",
    "       'year', 'month', 'quarter', 'weekofyear', 'day', 'dayofweek',\n",
    "       'dayofyear', 'is_month_start', 'is_month_end', 'is_quarter_start',\n",
    "       'is_quarter_end', 'is_year_start', 'is_year_end', 'hour',\n",
    "       'site_id_building_id', 'site_building_meter_id',\n",
    "       'site_building_meter_id_usage', 'site_id_meter', 'building_id_meter',\n",
    "       'site_id_primary_use', 'building_id_primary_use', 'meter_primary_use',\n",
    "       'building_age', 'primary_use_label']\n",
    "\n",
    "cat_fetaures = ['site_id', 'building_id', 'meter',\n",
    "       'year_built', 'floor_count', \n",
    "       'year', 'month', 'quarter', 'weekofyear', 'day', 'dayofweek',\n",
    "       'dayofyear', 'is_month_start', 'is_month_end', 'is_quarter_start',\n",
    "       'is_quarter_end', 'is_year_start', 'is_year_end', 'hour',\n",
    "       'site_id_building_id', 'site_building_meter_id',\n",
    "       'site_building_meter_id_usage', 'site_id_meter', 'building_id_meter',\n",
    "       'site_id_primary_use', 'building_id_primary_use', 'meter_primary_use', \n",
    "       'primary_use_label']\n",
    "\n",
    "#Copied the params from Konstatien's kernel\n",
    "lgb_params = {\n",
    "                'objective':'regression',\n",
    "                'boosting_type':'gbdt',\n",
    "                'metric':'rmse',\n",
    "                'n_jobs':-1,\n",
    "                'learning_rate':0.05,\n",
    "                'num_leaves': 2**8,\n",
    "                'max_depth':-1,\n",
    "                'tree_learner':'serial',\n",
    "                'colsample_bytree': 0.9,\n",
    "                'subsample_freq':1,\n",
    "                'subsample':0.5,\n",
    "                'n_estimators':2000,\n",
    "                'max_bin':255,\n",
    "                'verbose':-1,\n",
    "                'seed': SEED,\n",
    "                'early_stopping_rounds':100, \n",
    "                }"
   ]
  },
  {
   "cell_type": "code",
   "execution_count": 21,
   "metadata": {},
   "outputs": [],
   "source": [
    "def train_model(training, validation, predictors, target, params, categorical_feature=None, test_X=None):\n",
    "    \n",
    "    train_X = training[predictors]\n",
    "    train_Y = np.log1p(training[target])\n",
    "    validation_X = validation[predictors]\n",
    "    validation_Y = np.log1p(validation[target])\n",
    "\n",
    "    print(f'Shape of train_X : {train_X.shape}')\n",
    "    print(f'Shape of train_Y : {train_Y.shape}')\n",
    "    print(f'Shape of validation_X : {validation_X.shape}')\n",
    "    print(f'Shape of validation_Y : {validation_Y.shape}')\n",
    "    \n",
    "    dtrain = lgb.Dataset(train_X, label=train_Y)\n",
    "    dvalid = lgb.Dataset(validation_X, validation_Y)\n",
    "    \n",
    "    print(\"Training model!\")\n",
    "    if categorical_feature:\n",
    "        print(f'List of categorical features considered : {cat_fetaures}')\n",
    "        bst = lgb.train(params, dtrain, valid_sets=[dvalid], verbose_eval=100, categorical_feature=categorical_feature)\n",
    "    else:\n",
    "        bst = lgb.train(params, dtrain, valid_sets=[dvalid], verbose_eval=100)\n",
    "    \n",
    "    valid_prediction = bst.predict(validation_X)\n",
    "    valid_score = np.sqrt(metrics.mean_squared_error(validation_Y, valid_prediction))\n",
    "    print(f'Validation Score {valid_score}')\n",
    "    \n",
    "    if test_X is not None:\n",
    "        print('Do Nothing')\n",
    "    else:\n",
    "        return bst, valid_score"
   ]
  },
  {
   "cell_type": "code",
   "execution_count": 38,
   "metadata": {},
   "outputs": [],
   "source": [
    "def make_prediction(df_train_X, df_train_Y, df_test_X, params, categorical_feature=None, n_splits=5):\n",
    "    yoof = np.zeros(len(df_train_X))\n",
    "    yhat = np.zeros(len(df_test_X))\n",
    "    cv_scores = []\n",
    "    result_dict = {}\n",
    "    \n",
    "    kf = KFold(n_splits=n_splits, random_state=SEED, shuffle=False)\n",
    "\n",
    "    fold = 0\n",
    "    for in_index, oof_index in kf.split(df_train_X, df_train_Y):\n",
    "        fold += 1\n",
    "        print(f'fold {fold} of {n_splits}')\n",
    "        X_in, X_oof = df_train_X.iloc[in_index], df_train_X.iloc[oof_index]\n",
    "        y_in, y_oof = df_train_Y.iloc[in_index], df_train_Y.iloc[oof_index]\n",
    "        \n",
    "        lgb_train = lgb.Dataset(X_in, y_in, categorical_feature=categorical_feature)\n",
    "        lgb_eval = lgb.Dataset(X_oof, y_oof, reference=lgb_train, categorical_feature=categorical_feature)\n",
    "        \n",
    "        model = lgb.train(\n",
    "            params,\n",
    "            lgb_train,\n",
    "            valid_sets = [lgb_train, lgb_eval],\n",
    "            verbose_eval = 50\n",
    "        )   \n",
    "        \n",
    "        del lgb_train, lgb_eval, in_index, X_in, y_in \n",
    "        gc.collect()\n",
    "        \n",
    "        print('Training completed')\n",
    "        yoof[oof_index] = model.predict(X_oof)\n",
    "        print('OOF Prediction completed.')\n",
    "        #lgb_test = lgb.Dataset(df_test_X, categorical_feature=categorical_feature)\n",
    "        prediction = model.predict(df_test_X.values)\n",
    "        print('Shape of prediction', prediction.shape)\n",
    "        yhat += np.expm1(prediction)\n",
    "        print('Prediction completed')\n",
    "        cv_oof_score = np.sqrt(metrics.mean_squared_error(y_oof, yoof[oof_index]))\n",
    "        print(f'CV OOF Score for fold {fold} is {cv_oof_score}')\n",
    "        cv_scores.append(cv_oof_score)\n",
    "        \n",
    "        del oof_index, X_oof, y_oof\n",
    "        gc.collect()\n",
    "\n",
    "    yhat /= n_splits\n",
    "\n",
    "    oof_score = round(np.sqrt(metrics.mean_squared_error(df_train_Y, yoof)), 5)\n",
    "    avg_cv_scores = round(sum(cv_scores)/len(cv_scores), 5)\n",
    "    std_cv_scores = round(np.array(cv_scores).std(), 5)\n",
    "\n",
    "    print(f'Combined OOF score : {oof_score}')\n",
    "    print(f'Average of {fold} folds OOF score {avg_cv_scores}')\n",
    "    print(f'std of {fold} folds OOF score {std_cv_scores}')\n",
    "    \n",
    "    result_dict['yoof'] = yoof\n",
    "    result_dict['prediction'] = yhat\n",
    "    result_dict['oof_score'] = oof_score\n",
    "    result_dict['cv_scores'] = cv_scores\n",
    "    result_dict['avg_cv_scores'] = avg_cv_scores\n",
    "    result_dict['std_cv_scores'] = std_cv_scores\n",
    "    \n",
    "    return result_dict"
   ]
  },
  {
   "cell_type": "markdown",
   "metadata": {},
   "source": [
    "### Validation 1 : 50% Training : 50% Holdout split without shuffle"
   ]
  },
  {
   "cell_type": "code",
   "execution_count": 22,
   "metadata": {},
   "outputs": [
    {
     "name": "stdout",
     "output_type": "stream",
     "text": [
      "Splitting the data into train and holdout with validation fraction 0.5...\n",
      "Shape of the training data (9911161, 40) \n",
      "Shape of the validation data (9911161, 40)\n"
     ]
    }
   ],
   "source": [
    "training, validation = utility.get_data_splits_by_fraction(train_merged, valid_fraction=0.5)"
   ]
  },
  {
   "cell_type": "code",
   "execution_count": 23,
   "metadata": {},
   "outputs": [
    {
     "name": "stdout",
     "output_type": "stream",
     "text": [
      "Shape of train_X : (9911161, 37)\n",
      "Shape of train_Y : (9911161,)\n",
      "Shape of validation_X : (9911161, 37)\n",
      "Shape of validation_Y : (9911161,)\n",
      "Training model!\n",
      "List of categorical features considered : ['site_id', 'building_id', 'meter', 'year_built', 'floor_count', 'year', 'month', 'quarter', 'weekofyear', 'day', 'dayofweek', 'dayofyear', 'is_month_start', 'is_month_end', 'is_quarter_start', 'is_quarter_end', 'is_year_start', 'is_year_end', 'hour', 'site_id_building_id', 'site_building_meter_id', 'site_building_meter_id_usage', 'site_id_meter', 'building_id_meter', 'site_id_primary_use', 'building_id_primary_use', 'meter_primary_use', 'primary_use_label']\n"
     ]
    },
    {
     "name": "stderr",
     "output_type": "stream",
     "text": [
      "/home/jupyter/anaconda3/envs/py37/lib/python3.7/site-packages/lightgbm/engine.py:148: UserWarning:\n",
      "\n",
      "Found `n_estimators` in params. Will use it instead of argument\n",
      "\n",
      "/home/jupyter/anaconda3/envs/py37/lib/python3.7/site-packages/lightgbm/engine.py:153: UserWarning:\n",
      "\n",
      "Found `early_stopping_rounds` in params. Will use it instead of argument\n",
      "\n",
      "/home/jupyter/anaconda3/envs/py37/lib/python3.7/site-packages/lightgbm/basic.py:1247: UserWarning:\n",
      "\n",
      "categorical_feature in Dataset is overridden.\n",
      "New categorical_feature is ['building_id', 'building_id_meter', 'building_id_primary_use', 'day', 'dayofweek', 'dayofyear', 'floor_count', 'hour', 'is_month_end', 'is_month_start', 'is_quarter_end', 'is_quarter_start', 'is_year_end', 'is_year_start', 'meter', 'meter_primary_use', 'month', 'primary_use_label', 'quarter', 'site_building_meter_id', 'site_building_meter_id_usage', 'site_id', 'site_id_building_id', 'site_id_meter', 'site_id_primary_use', 'weekofyear', 'year', 'year_built']\n",
      "\n"
     ]
    },
    {
     "name": "stdout",
     "output_type": "stream",
     "text": [
      "Training until validation scores don't improve for 100 rounds\n",
      "[100]\tvalid_0's rmse: 1.17246\n",
      "[200]\tvalid_0's rmse: 1.14124\n",
      "[300]\tvalid_0's rmse: 1.13661\n",
      "[400]\tvalid_0's rmse: 1.13476\n",
      "[500]\tvalid_0's rmse: 1.13399\n",
      "[600]\tvalid_0's rmse: 1.13396\n",
      "[700]\tvalid_0's rmse: 1.13343\n",
      "Early stopping, best iteration is:\n",
      "[680]\tvalid_0's rmse: 1.13328\n",
      "Validation Score 1.2241440724700703\n"
     ]
    }
   ],
   "source": [
    "bst, valid_score = train_model(training, validation, predictors, TARGET, params=lgb_params, categorical_feature=cat_fetaures)"
   ]
  },
  {
   "cell_type": "code",
   "execution_count": 24,
   "metadata": {},
   "outputs": [
    {
     "data": {
      "text/plain": [
       "282"
      ]
     },
     "execution_count": 24,
     "metadata": {},
     "output_type": "execute_result"
    }
   ],
   "source": [
    "del training, validation, bst, valid_score\n",
    "gc.collect()"
   ]
  },
  {
   "cell_type": "markdown",
   "metadata": {},
   "source": [
    "### Validation 2 : Train on first 4 months, skip next 4 months, Test on last 4 months"
   ]
  },
  {
   "cell_type": "code",
   "execution_count": 25,
   "metadata": {},
   "outputs": [
    {
     "name": "stdout",
     "output_type": "stream",
     "text": [
      "Splitting the data into train and holdout based on months...\n",
      "Training months [1, 2, 3, 4]\n",
      "Validation months [9, 10, 11, 12]\n",
      "Shape of the training data (6134847, 40) \n",
      "Shape of the validation data (6857643, 40)\n"
     ]
    }
   ],
   "source": [
    "# Training on 1st four months\n",
    "train_months = [1, 2, 3, 4]\n",
    "# Holdout on last four months\n",
    "validation_months = [9, 10, 11, 12]\n",
    "\n",
    "training, validation = utility.get_data_splits_by_month(train_merged, \n",
    "                                                        train_months=train_months, \n",
    "                                                        validation_months=validation_months)"
   ]
  },
  {
   "cell_type": "code",
   "execution_count": 36,
   "metadata": {},
   "outputs": [
    {
     "ename": "NameError",
     "evalue": "name 'training' is not defined",
     "output_type": "error",
     "traceback": [
      "\u001b[0;31m---------------------------------------------------------------------------\u001b[0m",
      "\u001b[0;31mNameError\u001b[0m                                 Traceback (most recent call last)",
      "\u001b[0;32m<ipython-input-36-4bc74441dc1f>\u001b[0m in \u001b[0;36m<module>\u001b[0;34m\u001b[0m\n\u001b[0;32m----> 1\u001b[0;31m bst, valid_score = train_model(training, \n\u001b[0m\u001b[1;32m      2\u001b[0m                                \u001b[0mvalidation\u001b[0m\u001b[0;34m,\u001b[0m\u001b[0;34m\u001b[0m\u001b[0;34m\u001b[0m\u001b[0m\n\u001b[1;32m      3\u001b[0m                                \u001b[0mpredictors\u001b[0m\u001b[0;34m,\u001b[0m\u001b[0;34m\u001b[0m\u001b[0;34m\u001b[0m\u001b[0m\n\u001b[1;32m      4\u001b[0m                                \u001b[0mTARGET\u001b[0m\u001b[0;34m,\u001b[0m\u001b[0;34m\u001b[0m\u001b[0;34m\u001b[0m\u001b[0m\n\u001b[1;32m      5\u001b[0m                                \u001b[0mparams\u001b[0m\u001b[0;34m=\u001b[0m\u001b[0mlgb_params\u001b[0m\u001b[0;34m,\u001b[0m\u001b[0;34m\u001b[0m\u001b[0;34m\u001b[0m\u001b[0m\n",
      "\u001b[0;31mNameError\u001b[0m: name 'training' is not defined"
     ]
    }
   ],
   "source": [
    "bst, valid_score = train_model(training, \n",
    "                               validation, \n",
    "                               predictors, \n",
    "                               TARGET, \n",
    "                               params=lgb_params, \n",
    "                               categorical_feature=cat_fetaures)"
   ]
  },
  {
   "cell_type": "code",
   "execution_count": 28,
   "metadata": {},
   "outputs": [
    {
     "ename": "NameError",
     "evalue": "name 'train_months' is not defined",
     "output_type": "error",
     "traceback": [
      "\u001b[0;31m---------------------------------------------------------------------------\u001b[0m",
      "\u001b[0;31mNameError\u001b[0m                                 Traceback (most recent call last)",
      "\u001b[0;32m<ipython-input-28-d8df740d7aca>\u001b[0m in \u001b[0;36m<module>\u001b[0;34m\u001b[0m\n\u001b[0;32m----> 1\u001b[0;31m \u001b[0;32mdel\u001b[0m \u001b[0mtrain_months\u001b[0m\u001b[0;34m,\u001b[0m \u001b[0mvalidation_months\u001b[0m\u001b[0;34m,\u001b[0m \u001b[0mtraining\u001b[0m\u001b[0;34m,\u001b[0m \u001b[0mvalidation\u001b[0m\u001b[0;34m,\u001b[0m \u001b[0mbst\u001b[0m\u001b[0;34m,\u001b[0m \u001b[0mvalid_score\u001b[0m\u001b[0;34m\u001b[0m\u001b[0;34m\u001b[0m\u001b[0m\n\u001b[0m\u001b[1;32m      2\u001b[0m \u001b[0mgc\u001b[0m\u001b[0;34m.\u001b[0m\u001b[0mcollect\u001b[0m\u001b[0;34m(\u001b[0m\u001b[0;34m)\u001b[0m\u001b[0;34m\u001b[0m\u001b[0;34m\u001b[0m\u001b[0m\n",
      "\u001b[0;31mNameError\u001b[0m: name 'train_months' is not defined"
     ]
    }
   ],
   "source": [
    "del train_months, validation_months, training, validation, bst, valid_score\n",
    "gc.collect()"
   ]
  },
  {
   "cell_type": "markdown",
   "metadata": {},
   "source": [
    "### Make Prediction on test data"
   ]
  },
  {
   "cell_type": "code",
   "execution_count": 29,
   "metadata": {},
   "outputs": [
    {
     "name": "stdout",
     "output_type": "stream",
     "text": [
      "Size of train_X (19822322, 37)\n",
      "Size of train_Y (19822322,)\n",
      "Size of test_X (41697600, 37)\n",
      "Size of test_row_id (41697600,)\n"
     ]
    }
   ],
   "source": [
    "train_X = train_merged[predictors]\n",
    "train_Y = np.log1p(train_merged[TARGET])\n",
    "test_X = test_merged[predictors]\n",
    "test_row_id = test_merged['row_id']\n",
    "\n",
    "print(f'Size of train_X {train_X.shape}')\n",
    "print(f'Size of train_Y {train_Y.shape}')\n",
    "print(f'Size of test_X {test_X.shape}')\n",
    "print(f'Size of test_row_id {test_row_id.shape}')"
   ]
  },
  {
   "cell_type": "code",
   "execution_count": 30,
   "metadata": {},
   "outputs": [
    {
     "data": {
      "text/html": [
       "<div>\n",
       "<style scoped>\n",
       "    .dataframe tbody tr th:only-of-type {\n",
       "        vertical-align: middle;\n",
       "    }\n",
       "\n",
       "    .dataframe tbody tr th {\n",
       "        vertical-align: top;\n",
       "    }\n",
       "\n",
       "    .dataframe thead th {\n",
       "        text-align: right;\n",
       "    }\n",
       "</style>\n",
       "<table border=\"1\" class=\"dataframe\">\n",
       "  <thead>\n",
       "    <tr style=\"text-align: right;\">\n",
       "      <th></th>\n",
       "      <th>site_id</th>\n",
       "      <th>building_id</th>\n",
       "      <th>meter</th>\n",
       "      <th>square_feet</th>\n",
       "      <th>year_built</th>\n",
       "      <th>floor_count</th>\n",
       "      <th>air_temperature</th>\n",
       "      <th>cloud_coverage</th>\n",
       "      <th>dew_temperature</th>\n",
       "      <th>precip_depth_1_hr</th>\n",
       "      <th>sea_level_pressure</th>\n",
       "      <th>wind_direction</th>\n",
       "      <th>wind_speed</th>\n",
       "      <th>year</th>\n",
       "      <th>month</th>\n",
       "      <th>quarter</th>\n",
       "      <th>weekofyear</th>\n",
       "      <th>day</th>\n",
       "      <th>dayofweek</th>\n",
       "      <th>dayofyear</th>\n",
       "      <th>is_month_start</th>\n",
       "      <th>is_month_end</th>\n",
       "      <th>is_quarter_start</th>\n",
       "      <th>is_quarter_end</th>\n",
       "      <th>is_year_start</th>\n",
       "      <th>is_year_end</th>\n",
       "      <th>hour</th>\n",
       "      <th>site_id_building_id</th>\n",
       "      <th>site_building_meter_id</th>\n",
       "      <th>site_building_meter_id_usage</th>\n",
       "      <th>site_id_meter</th>\n",
       "      <th>building_id_meter</th>\n",
       "      <th>site_id_primary_use</th>\n",
       "      <th>building_id_primary_use</th>\n",
       "      <th>meter_primary_use</th>\n",
       "      <th>building_age</th>\n",
       "      <th>primary_use_label</th>\n",
       "    </tr>\n",
       "  </thead>\n",
       "  <tbody>\n",
       "    <tr>\n",
       "      <td>0</td>\n",
       "      <td>0</td>\n",
       "      <td>53</td>\n",
       "      <td>0</td>\n",
       "      <td>87742</td>\n",
       "      <td>1971</td>\n",
       "      <td>99</td>\n",
       "      <td>25.0</td>\n",
       "      <td>6.0</td>\n",
       "      <td>20.0</td>\n",
       "      <td>NaN</td>\n",
       "      <td>1019.700012</td>\n",
       "      <td>0.0</td>\n",
       "      <td>0.0</td>\n",
       "      <td>2016</td>\n",
       "      <td>1</td>\n",
       "      <td>1</td>\n",
       "      <td>53</td>\n",
       "      <td>1</td>\n",
       "      <td>4</td>\n",
       "      <td>1</td>\n",
       "      <td>1</td>\n",
       "      <td>0</td>\n",
       "      <td>1</td>\n",
       "      <td>0</td>\n",
       "      <td>1</td>\n",
       "      <td>0</td>\n",
       "      <td>0</td>\n",
       "      <td>54</td>\n",
       "      <td>63</td>\n",
       "      <td>63</td>\n",
       "      <td>0</td>\n",
       "      <td>1607</td>\n",
       "      <td>3</td>\n",
       "      <td>937</td>\n",
       "      <td>6</td>\n",
       "      <td>48</td>\n",
       "      <td>6</td>\n",
       "    </tr>\n",
       "    <tr>\n",
       "      <td>1</td>\n",
       "      <td>1</td>\n",
       "      <td>105</td>\n",
       "      <td>0</td>\n",
       "      <td>50623</td>\n",
       "      <td>1800</td>\n",
       "      <td>5</td>\n",
       "      <td>3.8</td>\n",
       "      <td>NaN</td>\n",
       "      <td>2.4</td>\n",
       "      <td>NaN</td>\n",
       "      <td>1020.900024</td>\n",
       "      <td>240.0</td>\n",
       "      <td>3.1</td>\n",
       "      <td>2016</td>\n",
       "      <td>1</td>\n",
       "      <td>1</td>\n",
       "      <td>53</td>\n",
       "      <td>1</td>\n",
       "      <td>4</td>\n",
       "      <td>1</td>\n",
       "      <td>1</td>\n",
       "      <td>0</td>\n",
       "      <td>1</td>\n",
       "      <td>0</td>\n",
       "      <td>1</td>\n",
       "      <td>0</td>\n",
       "      <td>0</td>\n",
       "      <td>556</td>\n",
       "      <td>1076</td>\n",
       "      <td>1076</td>\n",
       "      <td>20</td>\n",
       "      <td>94</td>\n",
       "      <td>50</td>\n",
       "      <td>66</td>\n",
       "      <td>0</td>\n",
       "      <td>219</td>\n",
       "      <td>0</td>\n",
       "    </tr>\n",
       "    <tr>\n",
       "      <td>2</td>\n",
       "      <td>1</td>\n",
       "      <td>106</td>\n",
       "      <td>0</td>\n",
       "      <td>5374</td>\n",
       "      <td>1800</td>\n",
       "      <td>4</td>\n",
       "      <td>3.8</td>\n",
       "      <td>NaN</td>\n",
       "      <td>2.4</td>\n",
       "      <td>NaN</td>\n",
       "      <td>1020.900024</td>\n",
       "      <td>240.0</td>\n",
       "      <td>3.1</td>\n",
       "      <td>2016</td>\n",
       "      <td>1</td>\n",
       "      <td>1</td>\n",
       "      <td>53</td>\n",
       "      <td>1</td>\n",
       "      <td>4</td>\n",
       "      <td>1</td>\n",
       "      <td>1</td>\n",
       "      <td>0</td>\n",
       "      <td>1</td>\n",
       "      <td>0</td>\n",
       "      <td>1</td>\n",
       "      <td>0</td>\n",
       "      <td>0</td>\n",
       "      <td>557</td>\n",
       "      <td>1077</td>\n",
       "      <td>1077</td>\n",
       "      <td>20</td>\n",
       "      <td>105</td>\n",
       "      <td>50</td>\n",
       "      <td>77</td>\n",
       "      <td>0</td>\n",
       "      <td>219</td>\n",
       "      <td>0</td>\n",
       "    </tr>\n",
       "    <tr>\n",
       "      <td>3</td>\n",
       "      <td>1</td>\n",
       "      <td>106</td>\n",
       "      <td>3</td>\n",
       "      <td>5374</td>\n",
       "      <td>1800</td>\n",
       "      <td>4</td>\n",
       "      <td>3.8</td>\n",
       "      <td>NaN</td>\n",
       "      <td>2.4</td>\n",
       "      <td>NaN</td>\n",
       "      <td>1020.900024</td>\n",
       "      <td>240.0</td>\n",
       "      <td>3.1</td>\n",
       "      <td>2016</td>\n",
       "      <td>1</td>\n",
       "      <td>1</td>\n",
       "      <td>53</td>\n",
       "      <td>1</td>\n",
       "      <td>4</td>\n",
       "      <td>1</td>\n",
       "      <td>1</td>\n",
       "      <td>0</td>\n",
       "      <td>1</td>\n",
       "      <td>0</td>\n",
       "      <td>1</td>\n",
       "      <td>0</td>\n",
       "      <td>0</td>\n",
       "      <td>557</td>\n",
       "      <td>1078</td>\n",
       "      <td>1078</td>\n",
       "      <td>21</td>\n",
       "      <td>106</td>\n",
       "      <td>50</td>\n",
       "      <td>77</td>\n",
       "      <td>44</td>\n",
       "      <td>219</td>\n",
       "      <td>0</td>\n",
       "    </tr>\n",
       "    <tr>\n",
       "      <td>4</td>\n",
       "      <td>1</td>\n",
       "      <td>107</td>\n",
       "      <td>0</td>\n",
       "      <td>97532</td>\n",
       "      <td>2005</td>\n",
       "      <td>10</td>\n",
       "      <td>3.8</td>\n",
       "      <td>NaN</td>\n",
       "      <td>2.4</td>\n",
       "      <td>NaN</td>\n",
       "      <td>1020.900024</td>\n",
       "      <td>240.0</td>\n",
       "      <td>3.1</td>\n",
       "      <td>2016</td>\n",
       "      <td>1</td>\n",
       "      <td>1</td>\n",
       "      <td>53</td>\n",
       "      <td>1</td>\n",
       "      <td>4</td>\n",
       "      <td>1</td>\n",
       "      <td>1</td>\n",
       "      <td>0</td>\n",
       "      <td>1</td>\n",
       "      <td>0</td>\n",
       "      <td>1</td>\n",
       "      <td>0</td>\n",
       "      <td>0</td>\n",
       "      <td>558</td>\n",
       "      <td>1079</td>\n",
       "      <td>1079</td>\n",
       "      <td>20</td>\n",
       "      <td>128</td>\n",
       "      <td>50</td>\n",
       "      <td>88</td>\n",
       "      <td>0</td>\n",
       "      <td>14</td>\n",
       "      <td>0</td>\n",
       "    </tr>\n",
       "  </tbody>\n",
       "</table>\n",
       "</div>"
      ],
      "text/plain": [
       "   site_id  building_id  meter  square_feet  year_built  floor_count  \\\n",
       "0        0           53      0        87742        1971           99   \n",
       "1        1          105      0        50623        1800            5   \n",
       "2        1          106      0         5374        1800            4   \n",
       "3        1          106      3         5374        1800            4   \n",
       "4        1          107      0        97532        2005           10   \n",
       "\n",
       "   air_temperature  cloud_coverage  dew_temperature  precip_depth_1_hr  \\\n",
       "0             25.0             6.0             20.0                NaN   \n",
       "1              3.8             NaN              2.4                NaN   \n",
       "2              3.8             NaN              2.4                NaN   \n",
       "3              3.8             NaN              2.4                NaN   \n",
       "4              3.8             NaN              2.4                NaN   \n",
       "\n",
       "   sea_level_pressure  wind_direction  wind_speed  year  month  quarter  \\\n",
       "0         1019.700012             0.0         0.0  2016      1        1   \n",
       "1         1020.900024           240.0         3.1  2016      1        1   \n",
       "2         1020.900024           240.0         3.1  2016      1        1   \n",
       "3         1020.900024           240.0         3.1  2016      1        1   \n",
       "4         1020.900024           240.0         3.1  2016      1        1   \n",
       "\n",
       "   weekofyear  day  dayofweek  dayofyear  is_month_start  is_month_end  \\\n",
       "0          53    1          4          1               1             0   \n",
       "1          53    1          4          1               1             0   \n",
       "2          53    1          4          1               1             0   \n",
       "3          53    1          4          1               1             0   \n",
       "4          53    1          4          1               1             0   \n",
       "\n",
       "   is_quarter_start  is_quarter_end  is_year_start  is_year_end  hour  \\\n",
       "0                 1               0              1            0     0   \n",
       "1                 1               0              1            0     0   \n",
       "2                 1               0              1            0     0   \n",
       "3                 1               0              1            0     0   \n",
       "4                 1               0              1            0     0   \n",
       "\n",
       "   site_id_building_id  site_building_meter_id  site_building_meter_id_usage  \\\n",
       "0                   54                      63                            63   \n",
       "1                  556                    1076                          1076   \n",
       "2                  557                    1077                          1077   \n",
       "3                  557                    1078                          1078   \n",
       "4                  558                    1079                          1079   \n",
       "\n",
       "   site_id_meter  building_id_meter  site_id_primary_use  \\\n",
       "0              0               1607                    3   \n",
       "1             20                 94                   50   \n",
       "2             20                105                   50   \n",
       "3             21                106                   50   \n",
       "4             20                128                   50   \n",
       "\n",
       "   building_id_primary_use  meter_primary_use  building_age  primary_use_label  \n",
       "0                      937                  6            48                  6  \n",
       "1                       66                  0           219                  0  \n",
       "2                       77                  0           219                  0  \n",
       "3                       77                 44           219                  0  \n",
       "4                       88                  0            14                  0  "
      ]
     },
     "execution_count": 30,
     "metadata": {},
     "output_type": "execute_result"
    }
   ],
   "source": [
    "train_X.head()"
   ]
  },
  {
   "cell_type": "code",
   "execution_count": 31,
   "metadata": {},
   "outputs": [
    {
     "data": {
      "text/plain": [
       "74"
      ]
     },
     "execution_count": 31,
     "metadata": {},
     "output_type": "execute_result"
    }
   ],
   "source": [
    "del train_merged, test_merged\n",
    "gc.collect()"
   ]
  },
  {
   "cell_type": "code",
   "execution_count": 39,
   "metadata": {},
   "outputs": [
    {
     "name": "stdout",
     "output_type": "stream",
     "text": [
      "fold 1 of 2\n",
      "Training until validation scores don't improve for 100 rounds\n",
      "[50]\ttraining's rmse: 0.822757\tvalid_1's rmse: 1.27012\n",
      "[100]\ttraining's rmse: 0.667553\tvalid_1's rmse: 1.2472\n",
      "[150]\ttraining's rmse: 0.603522\tvalid_1's rmse: 1.24179\n",
      "[200]\ttraining's rmse: 0.574068\tvalid_1's rmse: 1.24214\n",
      "Early stopping, best iteration is:\n",
      "[141]\ttraining's rmse: 0.611831\tvalid_1's rmse: 1.24069\n",
      "Training completed\n",
      "OOF Prediction completed.\n",
      "Shape of prediction (41697600,)\n",
      "Prediction completed\n",
      "CV OOF Score for fold 1 is 1.2423634744343752\n",
      "fold 2 of 2\n"
     ]
    },
    {
     "name": "stderr",
     "output_type": "stream",
     "text": [
      "/home/jupyter/anaconda3/envs/py37/lib/python3.7/site-packages/lightgbm/engine.py:148: UserWarning:\n",
      "\n",
      "Found `n_estimators` in params. Will use it instead of argument\n",
      "\n",
      "/home/jupyter/anaconda3/envs/py37/lib/python3.7/site-packages/lightgbm/engine.py:153: UserWarning:\n",
      "\n",
      "Found `early_stopping_rounds` in params. Will use it instead of argument\n",
      "\n",
      "/home/jupyter/anaconda3/envs/py37/lib/python3.7/site-packages/lightgbm/basic.py:1243: UserWarning:\n",
      "\n",
      "Using categorical_feature in Dataset.\n",
      "\n"
     ]
    },
    {
     "name": "stdout",
     "output_type": "stream",
     "text": [
      "Training until validation scores don't improve for 100 rounds\n",
      "[50]\ttraining's rmse: 0.810822\tvalid_1's rmse: 1.23689\n",
      "[100]\ttraining's rmse: 0.660822\tvalid_1's rmse: 1.17246\n",
      "[150]\ttraining's rmse: 0.602191\tvalid_1's rmse: 1.14727\n",
      "[200]\ttraining's rmse: 0.576548\tvalid_1's rmse: 1.14124\n",
      "[250]\ttraining's rmse: 0.560649\tvalid_1's rmse: 1.13836\n",
      "[300]\ttraining's rmse: 0.548958\tvalid_1's rmse: 1.13661\n",
      "[350]\ttraining's rmse: 0.540094\tvalid_1's rmse: 1.13607\n",
      "[400]\ttraining's rmse: 0.531355\tvalid_1's rmse: 1.13476\n",
      "[450]\ttraining's rmse: 0.524106\tvalid_1's rmse: 1.13419\n",
      "[500]\ttraining's rmse: 0.517497\tvalid_1's rmse: 1.13399\n",
      "[550]\ttraining's rmse: 0.511686\tvalid_1's rmse: 1.13385\n",
      "[600]\ttraining's rmse: 0.505975\tvalid_1's rmse: 1.13396\n",
      "[650]\ttraining's rmse: 0.500485\tvalid_1's rmse: 1.13354\n",
      "[700]\ttraining's rmse: 0.49599\tvalid_1's rmse: 1.13343\n",
      "[750]\ttraining's rmse: 0.491436\tvalid_1's rmse: 1.13334\n",
      "Early stopping, best iteration is:\n",
      "[680]\ttraining's rmse: 0.497684\tvalid_1's rmse: 1.13328\n",
      "Training completed\n",
      "OOF Prediction completed.\n",
      "Shape of prediction (41697600,)\n",
      "Prediction completed\n",
      "CV OOF Score for fold 2 is 1.224060455383794\n",
      "Combined OOF score : 1.23325\n",
      "Average of 2 folds OOF score 1.23321\n",
      "std of 2 folds OOF score 0.00915\n"
     ]
    }
   ],
   "source": [
    "result_dict = make_prediction(train_X, train_Y, test_X, params=lgb_params, categorical_feature=cat_fetaures, n_splits=2)"
   ]
  },
  {
   "cell_type": "code",
   "execution_count": 40,
   "metadata": {},
   "outputs": [
    {
     "data": {
      "text/plain": [
       "6"
      ]
     },
     "execution_count": 40,
     "metadata": {},
     "output_type": "execute_result"
    }
   ],
   "source": [
    "len(result_dict)"
   ]
  },
  {
   "cell_type": "code",
   "execution_count": 42,
   "metadata": {},
   "outputs": [
    {
     "data": {
      "text/plain": [
       "{'yoof': array([4.39619864, 4.15479624, 1.06703505, ..., 0.78703716, 5.32853859,\n",
       "        1.35591889]),\n",
       " 'prediction': array([196.56280576,  86.37350022,   7.5068043 , ...,   0.84989317,\n",
       "        190.17161884,   3.13273441]),\n",
       " 'oof_score': 1.23325,\n",
       " 'cv_scores': [1.2423634744343752, 1.224060455383794],\n",
       " 'avg_cv_scores': 1.23321,\n",
       " 'std_cv_scores': 0.00915}"
      ]
     },
     "execution_count": 42,
     "metadata": {},
     "output_type": "execute_result"
    }
   ],
   "source": [
    "result_dict"
   ]
  },
  {
   "cell_type": "code",
   "execution_count": 52,
   "metadata": {},
   "outputs": [],
   "source": [
    "predictions = result_dict['prediction']\n",
    "\n",
    "submission_df =  feather.read_dataframe(f'{utility.CREATED_DATA_DIR}/submission.feather')\n",
    "\n",
    "submission_df.row_id = test_row_id\n",
    "submission_df.meter_reading = predictions"
   ]
  },
  {
   "cell_type": "code",
   "execution_count": 53,
   "metadata": {},
   "outputs": [
    {
     "data": {
      "text/html": [
       "<div>\n",
       "<style scoped>\n",
       "    .dataframe tbody tr th:only-of-type {\n",
       "        vertical-align: middle;\n",
       "    }\n",
       "\n",
       "    .dataframe tbody tr th {\n",
       "        vertical-align: top;\n",
       "    }\n",
       "\n",
       "    .dataframe thead th {\n",
       "        text-align: right;\n",
       "    }\n",
       "</style>\n",
       "<table border=\"1\" class=\"dataframe\">\n",
       "  <thead>\n",
       "    <tr style=\"text-align: right;\">\n",
       "      <th></th>\n",
       "      <th>row_id</th>\n",
       "      <th>meter_reading</th>\n",
       "    </tr>\n",
       "  </thead>\n",
       "  <tbody>\n",
       "    <tr>\n",
       "      <td>0</td>\n",
       "      <td>0</td>\n",
       "      <td>196.562806</td>\n",
       "    </tr>\n",
       "    <tr>\n",
       "      <td>1</td>\n",
       "      <td>1</td>\n",
       "      <td>86.373500</td>\n",
       "    </tr>\n",
       "    <tr>\n",
       "      <td>2</td>\n",
       "      <td>2</td>\n",
       "      <td>7.506804</td>\n",
       "    </tr>\n",
       "    <tr>\n",
       "      <td>3</td>\n",
       "      <td>3</td>\n",
       "      <td>261.432631</td>\n",
       "    </tr>\n",
       "    <tr>\n",
       "      <td>4</td>\n",
       "      <td>4</td>\n",
       "      <td>1089.274630</td>\n",
       "    </tr>\n",
       "  </tbody>\n",
       "</table>\n",
       "</div>"
      ],
      "text/plain": [
       "   row_id  meter_reading\n",
       "0       0     196.562806\n",
       "1       1      86.373500\n",
       "2       2       7.506804\n",
       "3       3     261.432631\n",
       "4       4    1089.274630"
      ]
     },
     "execution_count": 53,
     "metadata": {},
     "output_type": "execute_result"
    }
   ],
   "source": [
    "submission_df.to_csv()"
   ]
  },
  {
   "cell_type": "code",
   "execution_count": 54,
   "metadata": {},
   "outputs": [],
   "source": [
    "submission_df.to_csv('submission_5.csv.gz', index=False, compression='gzip')"
   ]
  },
  {
   "cell_type": "code",
   "execution_count": 55,
   "metadata": {},
   "outputs": [
    {
     "name": "stdout",
     "output_type": "stream",
     "text": [
      "100%|██████████| 473M/473M [00:10<00:00, 46.3MB/s] \n",
      "Successfully submitted to ASHRAE - Great Energy Predictor III"
     ]
    }
   ],
   "source": [
    "! /home/jupyter/.local/bin/kaggle competitions submit -c ashrae-energy-prediction -f submission_5.csv.gz -m \"Cleaned site 0 data, added few interaction features, used cat encode from LGBM, 2 split CV\""
   ]
  },
  {
   "cell_type": "code",
   "execution_count": null,
   "metadata": {},
   "outputs": [],
   "source": []
  },
  {
   "cell_type": "code",
   "execution_count": null,
   "metadata": {},
   "outputs": [],
   "source": []
  },
  {
   "cell_type": "markdown",
   "metadata": {},
   "source": [
    "### Same prediction but with 5 folds"
   ]
  },
  {
   "cell_type": "code",
   "execution_count": 56,
   "metadata": {},
   "outputs": [
    {
     "name": "stdout",
     "output_type": "stream",
     "text": [
      "fold 1 of 5\n"
     ]
    },
    {
     "name": "stderr",
     "output_type": "stream",
     "text": [
      "/home/jupyter/anaconda3/envs/py37/lib/python3.7/site-packages/lightgbm/engine.py:148: UserWarning:\n",
      "\n",
      "Found `n_estimators` in params. Will use it instead of argument\n",
      "\n",
      "/home/jupyter/anaconda3/envs/py37/lib/python3.7/site-packages/lightgbm/engine.py:153: UserWarning:\n",
      "\n",
      "Found `early_stopping_rounds` in params. Will use it instead of argument\n",
      "\n",
      "/home/jupyter/anaconda3/envs/py37/lib/python3.7/site-packages/lightgbm/basic.py:1243: UserWarning:\n",
      "\n",
      "Using categorical_feature in Dataset.\n",
      "\n"
     ]
    },
    {
     "name": "stdout",
     "output_type": "stream",
     "text": [
      "Training until validation scores don't improve for 100 rounds\n",
      "[50]\ttraining's rmse: 0.865321\tvalid_1's rmse: 1.12377\n",
      "[100]\ttraining's rmse: 0.715484\tvalid_1's rmse: 1.03269\n",
      "[150]\ttraining's rmse: 0.647954\tvalid_1's rmse: 1.00359\n",
      "[200]\ttraining's rmse: 0.616143\tvalid_1's rmse: 0.973678\n",
      "[250]\ttraining's rmse: 0.59628\tvalid_1's rmse: 0.965345\n",
      "[300]\ttraining's rmse: 0.583232\tvalid_1's rmse: 0.961298\n",
      "[350]\ttraining's rmse: 0.572794\tvalid_1's rmse: 0.958464\n",
      "[400]\ttraining's rmse: 0.563994\tvalid_1's rmse: 0.956909\n",
      "[450]\ttraining's rmse: 0.555862\tvalid_1's rmse: 0.95656\n",
      "[500]\ttraining's rmse: 0.549219\tvalid_1's rmse: 0.955996\n",
      "[550]\ttraining's rmse: 0.542776\tvalid_1's rmse: 0.955136\n",
      "[600]\ttraining's rmse: 0.537401\tvalid_1's rmse: 0.955112\n",
      "[650]\ttraining's rmse: 0.532124\tvalid_1's rmse: 0.954812\n",
      "[700]\ttraining's rmse: 0.527028\tvalid_1's rmse: 0.954376\n",
      "[750]\ttraining's rmse: 0.522735\tvalid_1's rmse: 0.95433\n",
      "[800]\ttraining's rmse: 0.518483\tvalid_1's rmse: 0.954037\n",
      "[850]\ttraining's rmse: 0.514339\tvalid_1's rmse: 0.953892\n",
      "[900]\ttraining's rmse: 0.510779\tvalid_1's rmse: 0.953966\n",
      "Early stopping, best iteration is:\n",
      "[820]\ttraining's rmse: 0.516648\tvalid_1's rmse: 0.953869\n",
      "Training completed\n",
      "OOF Prediction completed.\n",
      "Shape of prediction (41697600,)\n",
      "Prediction completed\n",
      "CV OOF Score for fold 1 is 1.2010911620628129\n",
      "fold 2 of 5\n"
     ]
    },
    {
     "name": "stderr",
     "output_type": "stream",
     "text": [
      "/home/jupyter/anaconda3/envs/py37/lib/python3.7/site-packages/lightgbm/engine.py:148: UserWarning:\n",
      "\n",
      "Found `n_estimators` in params. Will use it instead of argument\n",
      "\n",
      "/home/jupyter/anaconda3/envs/py37/lib/python3.7/site-packages/lightgbm/engine.py:153: UserWarning:\n",
      "\n",
      "Found `early_stopping_rounds` in params. Will use it instead of argument\n",
      "\n",
      "/home/jupyter/anaconda3/envs/py37/lib/python3.7/site-packages/lightgbm/basic.py:1243: UserWarning:\n",
      "\n",
      "Using categorical_feature in Dataset.\n",
      "\n"
     ]
    },
    {
     "name": "stdout",
     "output_type": "stream",
     "text": [
      "Training until validation scores don't improve for 100 rounds\n",
      "[50]\ttraining's rmse: 0.88017\tvalid_1's rmse: 1.04366\n",
      "[100]\ttraining's rmse: 0.716121\tvalid_1's rmse: 0.997873\n",
      "[150]\ttraining's rmse: 0.647574\tvalid_1's rmse: 0.985472\n",
      "[200]\ttraining's rmse: 0.61396\tvalid_1's rmse: 0.979925\n",
      "[250]\ttraining's rmse: 0.594097\tvalid_1's rmse: 0.976737\n",
      "[300]\ttraining's rmse: 0.579365\tvalid_1's rmse: 0.974877\n",
      "[350]\ttraining's rmse: 0.56744\tvalid_1's rmse: 0.973232\n",
      "[400]\ttraining's rmse: 0.558216\tvalid_1's rmse: 0.972015\n",
      "[450]\ttraining's rmse: 0.549897\tvalid_1's rmse: 0.971424\n",
      "[500]\ttraining's rmse: 0.54283\tvalid_1's rmse: 0.970599\n",
      "[550]\ttraining's rmse: 0.536259\tvalid_1's rmse: 0.970044\n",
      "[600]\ttraining's rmse: 0.530241\tvalid_1's rmse: 0.969486\n",
      "[650]\ttraining's rmse: 0.524683\tvalid_1's rmse: 0.969054\n",
      "[700]\ttraining's rmse: 0.519372\tvalid_1's rmse: 0.968658\n",
      "[750]\ttraining's rmse: 0.515264\tvalid_1's rmse: 0.968379\n",
      "[800]\ttraining's rmse: 0.510645\tvalid_1's rmse: 0.968183\n",
      "[850]\ttraining's rmse: 0.506218\tvalid_1's rmse: 0.968161\n",
      "[900]\ttraining's rmse: 0.50228\tvalid_1's rmse: 0.967883\n",
      "[950]\ttraining's rmse: 0.498778\tvalid_1's rmse: 0.967745\n",
      "[1000]\ttraining's rmse: 0.495598\tvalid_1's rmse: 0.967802\n",
      "[1050]\ttraining's rmse: 0.492529\tvalid_1's rmse: 0.967512\n",
      "[1100]\ttraining's rmse: 0.489561\tvalid_1's rmse: 0.967206\n",
      "[1150]\ttraining's rmse: 0.486499\tvalid_1's rmse: 0.96708\n",
      "[1200]\ttraining's rmse: 0.483543\tvalid_1's rmse: 0.966957\n",
      "[1250]\ttraining's rmse: 0.480834\tvalid_1's rmse: 0.966896\n",
      "[1300]\ttraining's rmse: 0.478226\tvalid_1's rmse: 0.966805\n",
      "[1350]\ttraining's rmse: 0.475809\tvalid_1's rmse: 0.966846\n",
      "[1400]\ttraining's rmse: 0.473318\tvalid_1's rmse: 0.966745\n",
      "[1450]\ttraining's rmse: 0.470998\tvalid_1's rmse: 0.966723\n",
      "Shape of prediction (41697600,)\n",
      "Prediction completed\n",
      "CV OOF Score for fold 2 is 0.9665268696995911\n",
      "fold 3 of 5\n"
     ]
    },
    {
     "name": "stderr",
     "output_type": "stream",
     "text": [
      "/home/jupyter/anaconda3/envs/py37/lib/python3.7/site-packages/lightgbm/engine.py:148: UserWarning:\n",
      "\n",
      "Found `n_estimators` in params. Will use it instead of argument\n",
      "\n",
      "/home/jupyter/anaconda3/envs/py37/lib/python3.7/site-packages/lightgbm/engine.py:153: UserWarning:\n",
      "\n",
      "Found `early_stopping_rounds` in params. Will use it instead of argument\n",
      "\n",
      "/home/jupyter/anaconda3/envs/py37/lib/python3.7/site-packages/lightgbm/basic.py:1243: UserWarning:\n",
      "\n",
      "Using categorical_feature in Dataset.\n",
      "\n"
     ]
    },
    {
     "name": "stdout",
     "output_type": "stream",
     "text": [
      "Training until validation scores don't improve for 100 rounds\n",
      "[50]\ttraining's rmse: 0.870649\tvalid_1's rmse: 1.09633\n",
      "[100]\ttraining's rmse: 0.716353\tvalid_1's rmse: 0.999069\n",
      "[150]\ttraining's rmse: 0.649105\tvalid_1's rmse: 0.973469\n",
      "[200]\ttraining's rmse: 0.615011\tvalid_1's rmse: 0.965474\n",
      "[250]\ttraining's rmse: 0.596326\tvalid_1's rmse: 0.962981\n",
      "[300]\ttraining's rmse: 0.58266\tvalid_1's rmse: 0.961624\n",
      "[350]\ttraining's rmse: 0.570926\tvalid_1's rmse: 0.960325\n",
      "[400]\ttraining's rmse: 0.562496\tvalid_1's rmse: 0.959767\n",
      "[450]\ttraining's rmse: 0.554565\tvalid_1's rmse: 0.959441\n",
      "[500]\ttraining's rmse: 0.547224\tvalid_1's rmse: 0.958989\n",
      "[550]\ttraining's rmse: 0.54109\tvalid_1's rmse: 0.958706\n",
      "[600]\ttraining's rmse: 0.53491\tvalid_1's rmse: 0.957938\n",
      "[650]\ttraining's rmse: 0.528921\tvalid_1's rmse: 0.958069\n",
      "[700]\ttraining's rmse: 0.523254\tvalid_1's rmse: 0.957791\n",
      "Shape of prediction (41697600,)\n",
      "Prediction completed\n",
      "CV OOF Score for fold 3 is 1.1375314575151576\n",
      "fold 4 of 5\n"
     ]
    },
    {
     "name": "stderr",
     "output_type": "stream",
     "text": [
      "/home/jupyter/anaconda3/envs/py37/lib/python3.7/site-packages/lightgbm/engine.py:148: UserWarning:\n",
      "\n",
      "Found `n_estimators` in params. Will use it instead of argument\n",
      "\n",
      "/home/jupyter/anaconda3/envs/py37/lib/python3.7/site-packages/lightgbm/engine.py:153: UserWarning:\n",
      "\n",
      "Found `early_stopping_rounds` in params. Will use it instead of argument\n",
      "\n",
      "/home/jupyter/anaconda3/envs/py37/lib/python3.7/site-packages/lightgbm/basic.py:1243: UserWarning:\n",
      "\n",
      "Using categorical_feature in Dataset.\n",
      "\n"
     ]
    },
    {
     "name": "stdout",
     "output_type": "stream",
     "text": [
      "Training until validation scores don't improve for 100 rounds\n",
      "[50]\ttraining's rmse: 0.858164\tvalid_1's rmse: 1.23243\n",
      "[100]\ttraining's rmse: 0.710911\tvalid_1's rmse: 1.16078\n",
      "[150]\ttraining's rmse: 0.645053\tvalid_1's rmse: 1.13926\n",
      "[200]\ttraining's rmse: 0.613005\tvalid_1's rmse: 1.13117\n",
      "[250]\ttraining's rmse: 0.595005\tvalid_1's rmse: 1.12678\n",
      "[300]\ttraining's rmse: 0.581913\tvalid_1's rmse: 1.12397\n",
      "[350]\ttraining's rmse: 0.571355\tvalid_1's rmse: 1.12136\n",
      "[400]\ttraining's rmse: 0.562219\tvalid_1's rmse: 1.12076\n",
      "[450]\ttraining's rmse: 0.554083\tvalid_1's rmse: 1.11981\n",
      "[700]\ttraining's rmse: 0.521834\tvalid_1's rmse: 1.11806\n",
      "[750]\ttraining's rmse: 0.517607\tvalid_1's rmse: 1.11812\n",
      "Early stopping, best iteration is:\n",
      "[657]\ttraining's rmse: 0.525985\tvalid_1's rmse: 1.11791\n",
      "Training completed\n",
      "OOF Prediction completed.\n",
      "Shape of prediction (41697600,)\n",
      "Prediction completed\n",
      "CV OOF Score for fold 4 is 1.2138541656302122\n",
      "fold 5 of 5\n"
     ]
    },
    {
     "name": "stderr",
     "output_type": "stream",
     "text": [
      "/home/jupyter/anaconda3/envs/py37/lib/python3.7/site-packages/lightgbm/engine.py:148: UserWarning:\n",
      "\n",
      "Found `n_estimators` in params. Will use it instead of argument\n",
      "\n",
      "/home/jupyter/anaconda3/envs/py37/lib/python3.7/site-packages/lightgbm/engine.py:153: UserWarning:\n",
      "\n",
      "Found `early_stopping_rounds` in params. Will use it instead of argument\n",
      "\n",
      "/home/jupyter/anaconda3/envs/py37/lib/python3.7/site-packages/lightgbm/basic.py:1243: UserWarning:\n",
      "\n",
      "Using categorical_feature in Dataset.\n",
      "\n"
     ]
    },
    {
     "name": "stdout",
     "output_type": "stream",
     "text": [
      "Training until validation scores don't improve for 100 rounds\n",
      "[50]\ttraining's rmse: 0.872992\tvalid_1's rmse: 1.08154\n",
      "[100]\ttraining's rmse: 0.709507\tvalid_1's rmse: 1.02638\n",
      "[150]\ttraining's rmse: 0.644461\tvalid_1's rmse: 1.01824\n",
      "[200]\ttraining's rmse: 0.612542\tvalid_1's rmse: 1.01917\n",
      "[250]\ttraining's rmse: 0.592708\tvalid_1's rmse: 1.01891\n",
      "Early stopping, best iteration is:\n",
      "[157]\ttraining's rmse: 0.63929\tvalid_1's rmse: 1.01762\n",
      "Training completed\n",
      "OOF Prediction completed.\n",
      "Shape of prediction (41697600,)\n",
      "Prediction completed\n",
      "CV OOF Score for fold 5 is 1.1324071557572988\n",
      "Combined OOF score : 1.13372\n",
      "Average of 5 folds OOF score 1.13028\n",
      "std of 5 folds OOF score 0.08817\n"
     ]
    }
   ],
   "source": [
    "result_dict = make_prediction(train_X, train_Y, test_X, params=lgb_params, categorical_feature=cat_fetaures, n_splits=5)"
   ]
  },
  {
   "cell_type": "code",
   "execution_count": 57,
   "metadata": {},
   "outputs": [
    {
     "name": "stderr",
     "output_type": "stream",
     "text": [
      "/home/jupyter/anaconda3/envs/py37/lib/python3.7/site-packages/pyarrow/pandas_compat.py:752: FutureWarning:\n",
      "\n",
      ".labels was deprecated in version 0.24.0. Use .codes instead.\n",
      "\n"
     ]
    }
   ],
   "source": [
    "predictions = result_dict['prediction']\n",
    "\n",
    "submission_df =  feather.read_dataframe(f'{utility.CREATED_DATA_DIR}/submission.feather')\n",
    "\n",
    "submission_df.row_id = test_row_id\n",
    "submission_df.meter_reading = predictions"
   ]
  },
  {
   "cell_type": "code",
   "execution_count": 58,
   "metadata": {},
   "outputs": [],
   "source": [
    "submission_df.to_csv('submission_6.csv.gz', index=False, compression='gzip')"
   ]
  },
  {
   "cell_type": "code",
   "execution_count": 2,
   "metadata": {},
   "outputs": [
    {
     "name": "stdout",
     "output_type": "stream",
     "text": [
      "100%|██████████| 473M/473M [00:08<00:00, 58.1MB/s] \n",
      "Successfully submitted to ASHRAE - Great Energy Predictor III"
     ]
    }
   ],
   "source": [
    "! /home/jupyter/.local/bin/kaggle competitions submit -c ashrae-energy-prediction -f submission_6.csv.gz -m \"Submission 5 + 5 splits\""
   ]
  },
  {
   "cell_type": "code",
   "execution_count": null,
   "metadata": {},
   "outputs": [],
   "source": []
  }
 ],
 "metadata": {
  "kernelspec": {
   "display_name": "py_37",
   "language": "python",
   "name": "py_37"
  },
  "language_info": {
   "codemirror_mode": {
    "name": "ipython",
    "version": 3
   },
   "file_extension": ".py",
   "mimetype": "text/x-python",
   "name": "python",
   "nbconvert_exporter": "python",
   "pygments_lexer": "ipython3",
   "version": "3.7.4"
  }
 },
 "nbformat": 4,
 "nbformat_minor": 4
}
